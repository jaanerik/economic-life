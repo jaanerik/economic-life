{
 "cells": [
  {
   "cell_type": "code",
   "execution_count": 4,
   "id": "e1134882",
   "metadata": {},
   "outputs": [
    {
     "data": {
      "text/plain": [
       "0"
      ]
     },
     "execution_count": 4,
     "metadata": {},
     "output_type": "execute_result"
    }
   ],
   "source": [
    "# import pandas\n",
    "# from pandas_datareader import data as pdr\n",
    "# import yfinance as yfin\n",
    "# yfin.pdr_override()\n",
    "import backtrader\n",
    "import pandas as pd\n",
    "import pandas_datareader.data as web\n",
    "import datetime\n",
    "import backtrader as bt\n",
    "import numpy as np\n",
    "%matplotlib inline\n",
    "import matplotlib.pyplot as plt\n",
    "plt.rcParams[\"figure.figsize\"] = (10, 6) # (w, h)\n",
    "\n",
    "from datetime import datetime\n",
    "import backtrader as bt\n",
    "\n",
    "class SmaCross(bt.SignalStrategy):\n",
    "    def __init__(self):\n",
    "        sma1, sma2 = bt.ind.SMA(period=10), bt.ind.SMA(period=30)\n",
    "        crossover = bt.ind.CrossOver(sma1, sma2)\n",
    "        self.signal_add(bt.SIGNAL_LONG, crossover)\n",
    "\n",
    "cerebro = bt.Cerebro()\n",
    "cerebro.addstrategy(SmaCross)"
   ]
  },
  {
   "cell_type": "code",
   "execution_count": 2,
   "id": "363148a7",
   "metadata": {},
   "outputs": [],
   "source": [
    "# from pandas_datareader.yahoo.daily import YahooDailyReader as ydr\n",
    "# import requests\n",
    "\n",
    "# USER_AGENT = {\n",
    "#     'User-Agent': ('Mozilla/5.0 (Windows NT 10.0; Win64; x64) AppleWebKit/537.36 (KHTML, like Gecko)'\n",
    "#                    ' Chrome/91.0.4472.124 Safari/537.36')\n",
    "#     }\n",
    "# sesh = requests.Session()\n",
    "# sesh.headers.update(USER_AGENT)\n",
    "\n",
    "# yd = ydr(symbols=\"VFINX\",start='2021-01-01', session=sesh)\n",
    "# df = yd.read()\n",
    "# yd.close()\n",
    "\n",
    "# yd = ydr(symbols=\"VUSTX\",start='2021-01-01', session=sesh)\n",
    "# df2 = yd.read()\n",
    "# yd.close()"
   ]
  },
  {
   "cell_type": "code",
   "execution_count": 1,
   "id": "b31010f8",
   "metadata": {},
   "outputs": [],
   "source": [
    "def backtest(datas, strategy, plot=False, **kwargs):\n",
    "    global cerebro\n",
    "    cerebro = bt.Cerebro(stdstats=False)\n",
    "    for data in datas:\n",
    "        cerebro.adddata(data)\n",
    "    cerebro.addanalyzer(bt.analyzers.SharpeRatio, riskfreerate=0.0)\n",
    "    cerebro.addanalyzer(bt.analyzers.Returns)\n",
    "    cerebro.addanalyzer(bt.analyzers.DrawDown)\n",
    "    cerebro.addstrategy(strategy, **kwargs)\n",
    "    results = cerebro.run()\n",
    "    if plot:\n",
    "        cerebro.plot()\n",
    "    return (results[0].analyzers.drawdown.get_analysis()['max']['drawdown'],\n",
    "            results[0].analyzers.returns.get_analysis()['rnorm100'],\n",
    "            results[0].analyzers.sharperatio.get_analysis()['sharperatio'])\n"
   ]
  },
  {
   "cell_type": "code",
   "execution_count": null,
   "id": "3f438b73",
   "metadata": {},
   "outputs": [],
   "source": [
    "class AssetAllocation(bt.Strategy):\n",
    "    params = (\n",
    "        ('equity',0.6),\n",
    "    )\n",
    "    \n",
    "    def __init__(self):\n",
    "        self.UPRO = self.datas[0]\n",
    "        self.TQQQ = self.datas[1]\n",
    "        self.SQQQ = self.datas[2]\n",
    "        self.prev_TQQQ = []\n",
    "        self.counter = 0\n",
    "        \n",
    "    def next(self):\n",
    "        is_dip = len(self.prev_TQQQ) > 0 and (self.TQQQ.close / np.mean(self.prev_TQQQ) <= 0.97)\n",
    "        if  self.counter % 10 == 0 and (not is_dip): #rebalance every 10 workdays\n",
    "            self.order_target_percent(self.UPRO, target=self.params.equity)\n",
    "            self.order_target_percent(self.TQQQ, target=(1 - self.params.equity))\n",
    "        if is_dip:\n",
    "            self.order_target_percent(self.UPRO, target=self.params.equity + 0.2)\n",
    "            self.order_target_percent(self.SQQQ, target=(1 - self.params.equity - 0.2))\n",
    "            print(\"is_dip\")\n",
    "        self.prev_TQQQ += [self.TQQQ.close]\n",
    "        self.counter += 1\n"
   ]
  },
  {
   "cell_type": "code",
   "execution_count": 6,
   "id": "2cfb4e23",
   "metadata": {},
   "outputs": [],
   "source": [
    "upro = bt.feeds.YahooFinanceData(dataname='UPRO', fromdate=datetime(2017, 1, 1),todate=datetime(2021, 10, 1))\n",
    "tqqq = bt.feeds.YahooFinanceData(dataname='TQQQ', fromdate=datetime(2017, 1, 1),todate=datetime(2021, 10, 1))\n",
    "sqqq = bt.feeds.YahooFinanceData(dataname='SQQQ', fromdate=datetime(2017, 1, 1),todate=datetime(2021, 10, 1))"
   ]
  },
  {
   "cell_type": "code",
   "execution_count": null,
   "id": "bb98bd4b",
   "metadata": {},
   "outputs": [],
   "source": [
    "dd, cagr, sharpe = backtest([upro, tqqq, sqqq], AssetAllocation, plot=True, equity=0.6)\n",
    "print(f\"Max Drawdown: {dd:.2f}%\\nCAGR: {cagr:.2f}%\\nSharpe: {sharpe:.3f}\")"
   ]
  },
  {
   "cell_type": "code",
   "execution_count": 100,
   "id": "67ac67d7",
   "metadata": {},
   "outputs": [],
   "source": [
    "df = pd.DataFrame()\n",
    "class to_CSV(bt.Strategy):\n",
    "    params = (\n",
    "        ('equity',0.6),\n",
    "    )\n",
    "    \n",
    "    def __init__(self):\n",
    "        global df\n",
    "        self.df = pd.DataFrame()\n",
    "        self.UPRO = self.datas[0]\n",
    "#         self.TQQQ = self.datas[1]\n",
    "#         self.SQQQ = self.datas[2]\n",
    "        \n",
    "    def next(self):\n",
    "        pass\n",
    "cerebro = bt.Cerebro(stdstats=False)\n",
    "for data in [upro]: cerebro.adddata(data)\n",
    "# cerebro.addstrategy(to_CSV)\n",
    "\n",
    "cerebro.addwriter(bt.WriterFile, out='abc.csv', csv=True)\n",
    "results = cerebro.run()"
   ]
  },
  {
   "cell_type": "code",
   "execution_count": 101,
   "id": "3bba9ca7",
   "metadata": {},
   "outputs": [],
   "source": [
    "import os\n",
    "datapath = os.path.join(os.getcwd(), 'abc.csv')"
   ]
  },
  {
   "cell_type": "code",
   "execution_count": 117,
   "id": "4a213821",
   "metadata": {},
   "outputs": [],
   "source": [
    "a = pd.read_csv(datapath).iloc[1]"
   ]
  },
  {
   "cell_type": "code",
   "execution_count": 118,
   "id": "e80d8dda",
   "metadata": {},
   "outputs": [
    {
     "data": {
      "text/plain": [
       "('1',\n",
       " 'UPRO',\n",
       " '1',\n",
       " '2017-01-03 23:59:59.999989',\n",
       " '27.41',\n",
       " '27.68',\n",
       " '26.99',\n",
       " '27.46',\n",
       " '7298336.0',\n",
       " '0.0',\n",
       " '27.464451',\n",
       " 'Strategy',\n",
       " '1')"
      ]
     },
     "execution_count": 118,
     "metadata": {},
     "output_type": "execute_result"
    }
   ],
   "source": [
    "a.name"
   ]
  },
  {
   "cell_type": "code",
   "execution_count": 81,
   "id": "20bfa2f2",
   "metadata": {},
   "outputs": [],
   "source": [
    "data = bt.feeds.YahooFinanceCSVData(\n",
    "        dataname=datapath,\n",
    "        fromdate=datetime(2017, 1, 1),todate=datetime(2021, 10, 1),\n",
    "        reverse=False)"
   ]
  },
  {
   "cell_type": "code",
   "execution_count": 92,
   "id": "383a6b31",
   "metadata": {},
   "outputs": [
    {
     "name": "stdout",
     "output_type": "stream",
     "text": [
      "None\n"
     ]
    }
   ],
   "source": [
    "import datetime\n",
    "import backtrader.feeds as btfeeds\n",
    "class MyOHLC(btfeeds.GenericCSVData):\n",
    "    params = (\n",
    "        ('fromdate', datetime.datetime(2017, 1, 1)),\n",
    "        ('todate', datetime.datetime(2021, 10, 1)),\n",
    "        ('nullvalue', 0.0),\n",
    "        ('dtformat', ('%Y-%m-%d')),\n",
    "        ('tmformat', ('%H.%M.%S')),\n",
    "        ('datetime', 1),\n",
    "        ('open', 2),\n",
    "        ('high', 3),\n",
    "        ('low', 4),\n",
    "        ('close', 5),\n",
    "        ('volume', 6),\n",
    "        ('openinterest', -1)\n",
    "    )\n",
    "data = MyOHLC(dataname=datapath)\n",
    "print(data.getfeed())"
   ]
  },
  {
   "cell_type": "code",
   "execution_count": 93,
   "id": "aa971e5f",
   "metadata": {},
   "outputs": [],
   "source": [
    "data = bt.feeds.GenericCSVData(\n",
    "    dataname=datapath,\n",
    "    fromdate=datetime.datetime(2017, 1, 1),\n",
    "    todate=datetime.datetime(2021, 10, 1),\n",
    "    nullvalue=0.0,\n",
    "    dtformat=('%Y-%m-%d'),\n",
    "    datetime=0,\n",
    "    open = 1,\n",
    "    high = 2,\n",
    "    low = 3,\n",
    "    close = 4,\n",
    "    volume =5, \n",
    "    openinterest=-1,\n",
    "    reverse=False)"
   ]
  },
  {
   "cell_type": "code",
   "execution_count": 98,
   "id": "35fd9a3d",
   "metadata": {},
   "outputs": [
    {
     "ename": "ValueError",
     "evalue": "time data 'Id' does not match format '%Y-%m-%d'",
     "output_type": "error",
     "traceback": [
      "\u001b[0;31m---------------------------------------------------------------------------\u001b[0m",
      "\u001b[0;31mValueError\u001b[0m                                Traceback (most recent call last)",
      "\u001b[0;32m<ipython-input-98-db5a92a4cf35>\u001b[0m in \u001b[0;36m<module>\u001b[0;34m()\u001b[0m\n\u001b[1;32m     22\u001b[0m \u001b[0;34m\u001b[0m\u001b[0m\n\u001b[1;32m     23\u001b[0m \u001b[0mcerebro\u001b[0m\u001b[0;34m.\u001b[0m\u001b[0maddwriter\u001b[0m\u001b[0;34m(\u001b[0m\u001b[0mbt\u001b[0m\u001b[0;34m.\u001b[0m\u001b[0mWriterFile\u001b[0m\u001b[0;34m,\u001b[0m \u001b[0mout\u001b[0m\u001b[0;34m=\u001b[0m\u001b[0;34m'abc2.csv'\u001b[0m\u001b[0;34m,\u001b[0m \u001b[0mcsv\u001b[0m\u001b[0;34m=\u001b[0m\u001b[0;32mTrue\u001b[0m\u001b[0;34m)\u001b[0m\u001b[0;34m\u001b[0m\u001b[0;34m\u001b[0m\u001b[0m\n\u001b[0;32m---> 24\u001b[0;31m \u001b[0mresults\u001b[0m \u001b[0;34m=\u001b[0m \u001b[0mcerebro\u001b[0m\u001b[0;34m.\u001b[0m\u001b[0mrun\u001b[0m\u001b[0;34m(\u001b[0m\u001b[0;34m)\u001b[0m\u001b[0;34m\u001b[0m\u001b[0;34m\u001b[0m\u001b[0m\n\u001b[0m",
      "\u001b[0;32m/home/erik/anaconda3/envs/fin/lib/python3.6/site-packages/backtrader/cerebro.py\u001b[0m in \u001b[0;36mrun\u001b[0;34m(self, **kwargs)\u001b[0m\n\u001b[1;32m   1125\u001b[0m             \u001b[0;31m# let's skip process \"spawning\"\u001b[0m\u001b[0;34m\u001b[0m\u001b[0;34m\u001b[0m\u001b[0;34m\u001b[0m\u001b[0m\n\u001b[1;32m   1126\u001b[0m             \u001b[0;32mfor\u001b[0m \u001b[0miterstrat\u001b[0m \u001b[0;32min\u001b[0m \u001b[0miterstrats\u001b[0m\u001b[0;34m:\u001b[0m\u001b[0;34m\u001b[0m\u001b[0;34m\u001b[0m\u001b[0m\n\u001b[0;32m-> 1127\u001b[0;31m                 \u001b[0mrunstrat\u001b[0m \u001b[0;34m=\u001b[0m \u001b[0mself\u001b[0m\u001b[0;34m.\u001b[0m\u001b[0mrunstrategies\u001b[0m\u001b[0;34m(\u001b[0m\u001b[0miterstrat\u001b[0m\u001b[0;34m)\u001b[0m\u001b[0;34m\u001b[0m\u001b[0;34m\u001b[0m\u001b[0m\n\u001b[0m\u001b[1;32m   1128\u001b[0m                 \u001b[0mself\u001b[0m\u001b[0;34m.\u001b[0m\u001b[0mrunstrats\u001b[0m\u001b[0;34m.\u001b[0m\u001b[0mappend\u001b[0m\u001b[0;34m(\u001b[0m\u001b[0mrunstrat\u001b[0m\u001b[0;34m)\u001b[0m\u001b[0;34m\u001b[0m\u001b[0;34m\u001b[0m\u001b[0m\n\u001b[1;32m   1129\u001b[0m                 \u001b[0;32mif\u001b[0m \u001b[0mself\u001b[0m\u001b[0;34m.\u001b[0m\u001b[0m_dooptimize\u001b[0m\u001b[0;34m:\u001b[0m\u001b[0;34m\u001b[0m\u001b[0;34m\u001b[0m\u001b[0m\n",
      "\u001b[0;32m/home/erik/anaconda3/envs/fin/lib/python3.6/site-packages/backtrader/cerebro.py\u001b[0m in \u001b[0;36mrunstrategies\u001b[0;34m(self, iterstrat, predata)\u001b[0m\n\u001b[1;32m   1210\u001b[0m                 \u001b[0mdata\u001b[0m\u001b[0;34m.\u001b[0m\u001b[0m_start\u001b[0m\u001b[0;34m(\u001b[0m\u001b[0;34m)\u001b[0m\u001b[0;34m\u001b[0m\u001b[0;34m\u001b[0m\u001b[0m\n\u001b[1;32m   1211\u001b[0m                 \u001b[0;32mif\u001b[0m \u001b[0mself\u001b[0m\u001b[0;34m.\u001b[0m\u001b[0m_dopreload\u001b[0m\u001b[0;34m:\u001b[0m\u001b[0;34m\u001b[0m\u001b[0;34m\u001b[0m\u001b[0m\n\u001b[0;32m-> 1212\u001b[0;31m                     \u001b[0mdata\u001b[0m\u001b[0;34m.\u001b[0m\u001b[0mpreload\u001b[0m\u001b[0;34m(\u001b[0m\u001b[0;34m)\u001b[0m\u001b[0;34m\u001b[0m\u001b[0;34m\u001b[0m\u001b[0m\n\u001b[0m\u001b[1;32m   1213\u001b[0m \u001b[0;34m\u001b[0m\u001b[0m\n\u001b[1;32m   1214\u001b[0m         \u001b[0;32mfor\u001b[0m \u001b[0mstratcls\u001b[0m\u001b[0;34m,\u001b[0m \u001b[0msargs\u001b[0m\u001b[0;34m,\u001b[0m \u001b[0mskwargs\u001b[0m \u001b[0;32min\u001b[0m \u001b[0miterstrat\u001b[0m\u001b[0;34m:\u001b[0m\u001b[0;34m\u001b[0m\u001b[0;34m\u001b[0m\u001b[0m\n",
      "\u001b[0;32m/home/erik/anaconda3/envs/fin/lib/python3.6/site-packages/backtrader/feed.py\u001b[0m in \u001b[0;36mpreload\u001b[0;34m(self)\u001b[0m\n\u001b[1;32m    686\u001b[0m \u001b[0;34m\u001b[0m\u001b[0m\n\u001b[1;32m    687\u001b[0m     \u001b[0;32mdef\u001b[0m \u001b[0mpreload\u001b[0m\u001b[0;34m(\u001b[0m\u001b[0mself\u001b[0m\u001b[0;34m)\u001b[0m\u001b[0;34m:\u001b[0m\u001b[0;34m\u001b[0m\u001b[0;34m\u001b[0m\u001b[0m\n\u001b[0;32m--> 688\u001b[0;31m         \u001b[0;32mwhile\u001b[0m \u001b[0mself\u001b[0m\u001b[0;34m.\u001b[0m\u001b[0mload\u001b[0m\u001b[0;34m(\u001b[0m\u001b[0;34m)\u001b[0m\u001b[0;34m:\u001b[0m\u001b[0;34m\u001b[0m\u001b[0;34m\u001b[0m\u001b[0m\n\u001b[0m\u001b[1;32m    689\u001b[0m             \u001b[0;32mpass\u001b[0m\u001b[0;34m\u001b[0m\u001b[0;34m\u001b[0m\u001b[0m\n\u001b[1;32m    690\u001b[0m \u001b[0;34m\u001b[0m\u001b[0m\n",
      "\u001b[0;32m/home/erik/anaconda3/envs/fin/lib/python3.6/site-packages/backtrader/feed.py\u001b[0m in \u001b[0;36mload\u001b[0;34m(self)\u001b[0m\n\u001b[1;32m    477\u001b[0m \u001b[0;34m\u001b[0m\u001b[0m\n\u001b[1;32m    478\u001b[0m             \u001b[0;32mif\u001b[0m \u001b[0;32mnot\u001b[0m \u001b[0mself\u001b[0m\u001b[0;34m.\u001b[0m\u001b[0m_fromstack\u001b[0m\u001b[0;34m(\u001b[0m\u001b[0mstash\u001b[0m\u001b[0;34m=\u001b[0m\u001b[0;32mTrue\u001b[0m\u001b[0;34m)\u001b[0m\u001b[0;34m:\u001b[0m\u001b[0;34m\u001b[0m\u001b[0;34m\u001b[0m\u001b[0m\n\u001b[0;32m--> 479\u001b[0;31m                 \u001b[0m_loadret\u001b[0m \u001b[0;34m=\u001b[0m \u001b[0mself\u001b[0m\u001b[0;34m.\u001b[0m\u001b[0m_load\u001b[0m\u001b[0;34m(\u001b[0m\u001b[0;34m)\u001b[0m\u001b[0;34m\u001b[0m\u001b[0;34m\u001b[0m\u001b[0m\n\u001b[0m\u001b[1;32m    480\u001b[0m                 \u001b[0;32mif\u001b[0m \u001b[0;32mnot\u001b[0m \u001b[0m_loadret\u001b[0m\u001b[0;34m:\u001b[0m  \u001b[0;31m# no bar use force to make sure in exactbars\u001b[0m\u001b[0;34m\u001b[0m\u001b[0;34m\u001b[0m\u001b[0m\n\u001b[1;32m    481\u001b[0m                     \u001b[0;31m# the pointer is undone this covers especially (but not\u001b[0m\u001b[0;34m\u001b[0m\u001b[0;34m\u001b[0m\u001b[0;34m\u001b[0m\u001b[0m\n",
      "\u001b[0;32m/home/erik/anaconda3/envs/fin/lib/python3.6/site-packages/backtrader/feed.py\u001b[0m in \u001b[0;36m_load\u001b[0;34m(self)\u001b[0m\n\u001b[1;32m    708\u001b[0m         \u001b[0mline\u001b[0m \u001b[0;34m=\u001b[0m \u001b[0mline\u001b[0m\u001b[0;34m.\u001b[0m\u001b[0mrstrip\u001b[0m\u001b[0;34m(\u001b[0m\u001b[0;34m'\\n'\u001b[0m\u001b[0;34m)\u001b[0m\u001b[0;34m\u001b[0m\u001b[0;34m\u001b[0m\u001b[0m\n\u001b[1;32m    709\u001b[0m         \u001b[0mlinetokens\u001b[0m \u001b[0;34m=\u001b[0m \u001b[0mline\u001b[0m\u001b[0;34m.\u001b[0m\u001b[0msplit\u001b[0m\u001b[0;34m(\u001b[0m\u001b[0mself\u001b[0m\u001b[0;34m.\u001b[0m\u001b[0mseparator\u001b[0m\u001b[0;34m)\u001b[0m\u001b[0;34m\u001b[0m\u001b[0;34m\u001b[0m\u001b[0m\n\u001b[0;32m--> 710\u001b[0;31m         \u001b[0;32mreturn\u001b[0m \u001b[0mself\u001b[0m\u001b[0;34m.\u001b[0m\u001b[0m_loadline\u001b[0m\u001b[0;34m(\u001b[0m\u001b[0mlinetokens\u001b[0m\u001b[0;34m)\u001b[0m\u001b[0;34m\u001b[0m\u001b[0;34m\u001b[0m\u001b[0m\n\u001b[0m\u001b[1;32m    711\u001b[0m \u001b[0;34m\u001b[0m\u001b[0m\n\u001b[1;32m    712\u001b[0m     \u001b[0;32mdef\u001b[0m \u001b[0m_getnextline\u001b[0m\u001b[0;34m(\u001b[0m\u001b[0mself\u001b[0m\u001b[0;34m)\u001b[0m\u001b[0;34m:\u001b[0m\u001b[0;34m\u001b[0m\u001b[0;34m\u001b[0m\u001b[0m\n",
      "\u001b[0;32m/home/erik/anaconda3/envs/fin/lib/python3.6/site-packages/backtrader/feeds/csvgeneric.py\u001b[0m in \u001b[0;36m_loadline\u001b[0;34m(self, linetokens)\u001b[0m\n\u001b[1;32m    112\u001b[0m                 \u001b[0mdtformat\u001b[0m \u001b[0;34m+=\u001b[0m \u001b[0;34m'T'\u001b[0m \u001b[0;34m+\u001b[0m \u001b[0mself\u001b[0m\u001b[0;34m.\u001b[0m\u001b[0mp\u001b[0m\u001b[0;34m.\u001b[0m\u001b[0mtmformat\u001b[0m\u001b[0;34m\u001b[0m\u001b[0;34m\u001b[0m\u001b[0m\n\u001b[1;32m    113\u001b[0m \u001b[0;34m\u001b[0m\u001b[0m\n\u001b[0;32m--> 114\u001b[0;31m             \u001b[0mdt\u001b[0m \u001b[0;34m=\u001b[0m \u001b[0mdatetime\u001b[0m\u001b[0;34m.\u001b[0m\u001b[0mstrptime\u001b[0m\u001b[0;34m(\u001b[0m\u001b[0mdtfield\u001b[0m\u001b[0;34m,\u001b[0m \u001b[0mdtformat\u001b[0m\u001b[0;34m)\u001b[0m\u001b[0;34m\u001b[0m\u001b[0;34m\u001b[0m\u001b[0m\n\u001b[0m\u001b[1;32m    115\u001b[0m         \u001b[0;32melse\u001b[0m\u001b[0;34m:\u001b[0m\u001b[0;34m\u001b[0m\u001b[0;34m\u001b[0m\u001b[0m\n\u001b[1;32m    116\u001b[0m             \u001b[0mdt\u001b[0m \u001b[0;34m=\u001b[0m \u001b[0mself\u001b[0m\u001b[0;34m.\u001b[0m\u001b[0m_dtconvert\u001b[0m\u001b[0;34m(\u001b[0m\u001b[0mdtfield\u001b[0m\u001b[0;34m)\u001b[0m\u001b[0;34m\u001b[0m\u001b[0;34m\u001b[0m\u001b[0m\n",
      "\u001b[0;32m/home/erik/anaconda3/envs/fin/lib/python3.6/_strptime.py\u001b[0m in \u001b[0;36m_strptime_datetime\u001b[0;34m(cls, data_string, format)\u001b[0m\n\u001b[1;32m    563\u001b[0m     \"\"\"Return a class cls instance based on the input string and the\n\u001b[1;32m    564\u001b[0m     format string.\"\"\"\n\u001b[0;32m--> 565\u001b[0;31m     \u001b[0mtt\u001b[0m\u001b[0;34m,\u001b[0m \u001b[0mfraction\u001b[0m \u001b[0;34m=\u001b[0m \u001b[0m_strptime\u001b[0m\u001b[0;34m(\u001b[0m\u001b[0mdata_string\u001b[0m\u001b[0;34m,\u001b[0m \u001b[0mformat\u001b[0m\u001b[0;34m)\u001b[0m\u001b[0;34m\u001b[0m\u001b[0;34m\u001b[0m\u001b[0m\n\u001b[0m\u001b[1;32m    566\u001b[0m     \u001b[0mtzname\u001b[0m\u001b[0;34m,\u001b[0m \u001b[0mgmtoff\u001b[0m \u001b[0;34m=\u001b[0m \u001b[0mtt\u001b[0m\u001b[0;34m[\u001b[0m\u001b[0;34m-\u001b[0m\u001b[0;36m2\u001b[0m\u001b[0;34m:\u001b[0m\u001b[0;34m]\u001b[0m\u001b[0;34m\u001b[0m\u001b[0;34m\u001b[0m\u001b[0m\n\u001b[1;32m    567\u001b[0m     \u001b[0margs\u001b[0m \u001b[0;34m=\u001b[0m \u001b[0mtt\u001b[0m\u001b[0;34m[\u001b[0m\u001b[0;34m:\u001b[0m\u001b[0;36m6\u001b[0m\u001b[0;34m]\u001b[0m \u001b[0;34m+\u001b[0m \u001b[0;34m(\u001b[0m\u001b[0mfraction\u001b[0m\u001b[0;34m,\u001b[0m\u001b[0;34m)\u001b[0m\u001b[0;34m\u001b[0m\u001b[0;34m\u001b[0m\u001b[0m\n",
      "\u001b[0;32m/home/erik/anaconda3/envs/fin/lib/python3.6/_strptime.py\u001b[0m in \u001b[0;36m_strptime\u001b[0;34m(data_string, format)\u001b[0m\n\u001b[1;32m    360\u001b[0m     \u001b[0;32mif\u001b[0m \u001b[0;32mnot\u001b[0m \u001b[0mfound\u001b[0m\u001b[0;34m:\u001b[0m\u001b[0;34m\u001b[0m\u001b[0;34m\u001b[0m\u001b[0m\n\u001b[1;32m    361\u001b[0m         raise ValueError(\"time data %r does not match format %r\" %\n\u001b[0;32m--> 362\u001b[0;31m                          (data_string, format))\n\u001b[0m\u001b[1;32m    363\u001b[0m     \u001b[0;32mif\u001b[0m \u001b[0mlen\u001b[0m\u001b[0;34m(\u001b[0m\u001b[0mdata_string\u001b[0m\u001b[0;34m)\u001b[0m \u001b[0;34m!=\u001b[0m \u001b[0mfound\u001b[0m\u001b[0;34m.\u001b[0m\u001b[0mend\u001b[0m\u001b[0;34m(\u001b[0m\u001b[0;34m)\u001b[0m\u001b[0;34m:\u001b[0m\u001b[0;34m\u001b[0m\u001b[0;34m\u001b[0m\u001b[0m\n\u001b[1;32m    364\u001b[0m         raise ValueError(\"unconverted data remains: %s\" %\n",
      "\u001b[0;31mValueError\u001b[0m: time data 'Id' does not match format '%Y-%m-%d'"
     ]
    }
   ],
   "source": [
    "df = pd.DataFrame()\n",
    "class to_CSV(bt.Strategy):\n",
    "    params = (\n",
    "        ('equity',0.6),\n",
    "    )\n",
    "    \n",
    "    def __init__(self):\n",
    "        global df\n",
    "        self.df = pd.DataFrame()\n",
    "        self.UPRO = self.datas[0]\n",
    "        self.TQQQ = self.datas[1]\n",
    "        self.SQQQ = self.datas[2]\n",
    "        \n",
    "    def next(self):\n",
    "        global a \n",
    "        a = self.UPRO\n",
    "        print(a.close[0])\n",
    "        return\n",
    "cerebro = bt.Cerebro(stdstats=False)\n",
    "for data in [data]: cerebro.adddata(data)\n",
    "# cerebro.addstrategy(to_CSV)\n",
    "\n",
    "cerebro.addwriter(bt.WriterFile, out='abc2.csv', csv=True)\n",
    "results = cerebro.run()"
   ]
  },
  {
   "cell_type": "code",
   "execution_count": null,
   "id": "33f8ed12",
   "metadata": {},
   "outputs": [],
   "source": []
  }
 ],
 "metadata": {
  "kernelspec": {
   "display_name": "Python 3",
   "language": "python",
   "name": "python3"
  },
  "language_info": {
   "codemirror_mode": {
    "name": "ipython",
    "version": 3
   },
   "file_extension": ".py",
   "mimetype": "text/x-python",
   "name": "python",
   "nbconvert_exporter": "python",
   "pygments_lexer": "ipython3",
   "version": "3.6.13"
  }
 },
 "nbformat": 4,
 "nbformat_minor": 5
}
