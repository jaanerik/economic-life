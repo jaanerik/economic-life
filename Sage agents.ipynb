{
 "cells": [
  {
   "cell_type": "code",
   "execution_count": 1,
   "id": "272a676f",
   "metadata": {},
   "outputs": [],
   "source": [
    "import pandas as pd\n",
    "import numpy as np\n",
    "from strategy import *\n",
    "from nutil import *\n",
    "import matplotlib.pyplot as plt\n",
    "plt.style.use('dark_background')"
   ]
  },
  {
   "cell_type": "code",
   "execution_count": 2,
   "id": "f6b6ea8c",
   "metadata": {},
   "outputs": [],
   "source": [
    "m = Market()"
   ]
  },
  {
   "cell_type": "code",
   "execution_count": 4,
   "id": "0bb84bfb",
   "metadata": {
    "scrolled": true
   },
   "outputs": [
    {
     "name": "stdout",
     "output_type": "stream",
     "text": [
      "0.00 percent done.\n",
      "20.00 percent done.\n",
      "40.00 percent done.\n",
      "60.00 percent done.\n",
      "80.00 percent done.\n"
     ]
    }
   ],
   "source": [
    "m.simulate_k_steps(100)"
   ]
  },
  {
   "cell_type": "code",
   "execution_count": 21,
   "id": "7b302085",
   "metadata": {},
   "outputs": [
    {
     "data": {
      "text/plain": [
       "-1.0432310897790796e-07"
      ]
     },
     "execution_count": 21,
     "metadata": {},
     "output_type": "execute_result"
    }
   ],
   "source": [
    "simple_strat.strength"
   ]
  },
  {
   "cell_type": "code",
   "execution_count": 26,
   "id": "2c951f81",
   "metadata": {},
   "outputs": [],
   "source": [
    "def feedback_strat_over_history(strat, market_state_history, price_history):\n",
    "    r = len(price_history)\n",
    "    assert len(market_state_history) == r\n",
    "    feedback = 0\n",
    "    price_prev = price_history[0]\n",
    "    for i in range(1,r):\n",
    "        price_dif = price_history[i] - price_prev\n",
    "        was_act = strat.is_activated(market_state_history[i-1]) * simple_strat.action\n",
    "        feedback += price_dif * was_act\n",
    "    return feedback"
   ]
  },
  {
   "cell_type": "code",
   "execution_count": 32,
   "id": "c7c2eaf3",
   "metadata": {},
   "outputs": [
    {
     "name": "stdout",
     "output_type": "stream",
     "text": [
      "---\n",
      "Action : 1,Market indicators: [ 5 14 26 49],\n",
      "Condition: [0, 1, 1, 0]\n",
      "---\n"
     ]
    }
   ],
   "source": [
    "print(m.action_history[99][1]['strats'][2])"
   ]
  },
  {
   "cell_type": "code",
   "execution_count": 33,
   "id": "200133ff",
   "metadata": {},
   "outputs": [],
   "source": [
    "simple_strat = m.action_history[99][1]['strats'][2]"
   ]
  },
  {
   "cell_type": "code",
   "execution_count": 35,
   "id": "0c2b728f",
   "metadata": {},
   "outputs": [
    {
     "data": {
      "text/plain": [
       "0.0"
      ]
     },
     "execution_count": 35,
     "metadata": {},
     "output_type": "execute_result"
    }
   ],
   "source": [
    "simple_strat.strength"
   ]
  },
  {
   "cell_type": "code",
   "execution_count": 34,
   "id": "2da60e20",
   "metadata": {},
   "outputs": [
    {
     "data": {
      "text/plain": [
       "0.0"
      ]
     },
     "execution_count": 34,
     "metadata": {},
     "output_type": "execute_result"
    }
   ],
   "source": [
    "feedback_strat_over_history(simple_strat, m.market_state_history, m.price_history[2:])"
   ]
  },
  {
   "cell_type": "markdown",
   "id": "dfbbfdfd",
   "metadata": {},
   "source": [
    "## Ventral and dorsal signals?\n",
    "\n",
    "Agent whose strategy is memory based.\n",
    "\n",
    "Can dorsal be memory state memory and ventral simple buy,sell signal in this case?\n",
    "\n",
    "Memory-foam structures:\n",
    "- binary\n",
    "- discrete\n",
    "- continuous\n",
    "\n",
    "Memory can be used for simple recollection and replay of situations (one-shot learning effectively) or in addition with forward pass. Let t timestep forward pass also recollect t-1, t-2 step information. This can be some decaying algorithm or complete binary information: e.g. \"t-1 fired for sure\", \"t-2 definitely did not fire\". Decaying algorithm can collect average over some fixed time for example."
   ]
  },
  {
   "cell_type": "code",
   "execution_count": null,
   "id": "3a41134d",
   "metadata": {},
   "outputs": [],
   "source": []
  },
  {
   "cell_type": "markdown",
   "id": "ed358bff",
   "metadata": {},
   "source": [
    "## What is memory foam?\n",
    "\n",
    "Something that at the beginning trusts every signal (some random selection of signals), but over time learns to distrust some signal patterns. Distrusting can call for backprop or new random structure to be made. When recalling memories, this can also have a neg feedback. Recalling memory is just letting random white/grey noise through the foam."
   ]
  },
  {
   "cell_type": "code",
   "execution_count": null,
   "id": "734e8575",
   "metadata": {},
   "outputs": [],
   "source": []
  }
 ],
 "metadata": {
  "kernelspec": {
   "display_name": "Python 3",
   "language": "python",
   "name": "python3"
  },
  "language_info": {
   "codemirror_mode": {
    "name": "ipython",
    "version": 3
   },
   "file_extension": ".py",
   "mimetype": "text/x-python",
   "name": "python",
   "nbconvert_exporter": "python",
   "pygments_lexer": "ipython3",
   "version": "3.9.5"
  }
 },
 "nbformat": 4,
 "nbformat_minor": 5
}
