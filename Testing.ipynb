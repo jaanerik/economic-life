{
 "cells": [
  {
   "cell_type": "markdown",
   "id": "aa6279d8",
   "metadata": {},
   "source": [
    "### TODO: How many strats activated from how many agents each time step\n",
    "- Are strats working properly?\n",
    "- Is mutating/feedbacking strats okay?"
   ]
  },
  {
   "cell_type": "code",
   "execution_count": 34,
   "id": "f24c84f6",
   "metadata": {},
   "outputs": [],
   "source": [
    "import pandas as pd\n",
    "import numpy as np\n",
    "from strategy import *\n",
    "from nutil import *\n",
    "import matplotlib.pyplot as plt\n",
    "plt.style.use('dark_background')\n",
    "# %load_ext autoreload\n",
    "# %autoreload 2"
   ]
  },
  {
   "cell_type": "code",
   "execution_count": 35,
   "id": "10135d4a",
   "metadata": {},
   "outputs": [],
   "source": [
    "m = Market(150)"
   ]
  },
  {
   "cell_type": "code",
   "execution_count": 41,
   "id": "22f40e2d",
   "metadata": {},
   "outputs": [
    {
     "data": {
      "text/plain": [
       "540.0"
      ]
     },
     "execution_count": 41,
     "metadata": {},
     "output_type": "execute_result"
    }
   ],
   "source": [
    "150*60*0.02*3"
   ]
  },
  {
   "cell_type": "code",
   "execution_count": 42,
   "id": "d2f220be",
   "metadata": {
    "scrolled": false
   },
   "outputs": [],
   "source": [
    "m.simulate_k_steps(3)"
   ]
  },
  {
   "cell_type": "code",
   "execution_count": 43,
   "id": "c55d666e",
   "metadata": {},
   "outputs": [
    {
     "data": {
      "text/html": [
       "<div>\n",
       "<style scoped>\n",
       "    .dataframe tbody tr th:only-of-type {\n",
       "        vertical-align: middle;\n",
       "    }\n",
       "\n",
       "    .dataframe tbody tr th {\n",
       "        vertical-align: top;\n",
       "    }\n",
       "\n",
       "    .dataframe thead th {\n",
       "        text-align: right;\n",
       "    }\n",
       "</style>\n",
       "<table border=\"1\" class=\"dataframe\">\n",
       "  <thead>\n",
       "    <tr style=\"text-align: right;\">\n",
       "      <th></th>\n",
       "      <th>time</th>\n",
       "      <th>strat</th>\n",
       "      <th>agent</th>\n",
       "    </tr>\n",
       "  </thead>\n",
       "  <tbody>\n",
       "    <tr>\n",
       "      <th>0</th>\n",
       "      <td>0.000000</td>\n",
       "      <td>69b34917-07fe-4e08-9205-31506b8059e9</td>\n",
       "      <td>d2438112-6e65-4bdf-84e7-0a068229d65a</td>\n",
       "    </tr>\n",
       "    <tr>\n",
       "      <th>1</th>\n",
       "      <td>0.000000</td>\n",
       "      <td>e36ab371-9690-4082-a631-5b7cb9ebce6d</td>\n",
       "      <td>8f808cbe-cd7e-4afa-aba5-d7bb0c198b7d</td>\n",
       "    </tr>\n",
       "    <tr>\n",
       "      <th>2</th>\n",
       "      <td>0.000000</td>\n",
       "      <td>2d459606-d9d2-4635-bb1e-58d1b0bf4fcb</td>\n",
       "      <td>88855cb1-a6fe-47fa-8d5b-5abd2189c26f</td>\n",
       "    </tr>\n",
       "    <tr>\n",
       "      <th>3</th>\n",
       "      <td>0.000000</td>\n",
       "      <td>0a72b521-5842-49ac-bf4d-1a01d3121b44</td>\n",
       "      <td>623541a9-63b7-436b-9c5e-9ba1351dd15f</td>\n",
       "    </tr>\n",
       "    <tr>\n",
       "      <th>4</th>\n",
       "      <td>0.000000</td>\n",
       "      <td>115bf7ff-7e63-423a-9074-ced0cca0b7a7</td>\n",
       "      <td>623541a9-63b7-436b-9c5e-9ba1351dd15f</td>\n",
       "    </tr>\n",
       "    <tr>\n",
       "      <th>...</th>\n",
       "      <td>...</td>\n",
       "      <td>...</td>\n",
       "      <td>...</td>\n",
       "    </tr>\n",
       "    <tr>\n",
       "      <th>1112</th>\n",
       "      <td>0.000005</td>\n",
       "      <td>e1c01199-b84c-4981-b6ee-8eef86fba076</td>\n",
       "      <td>75cb1ece-1c90-4465-9d6c-1409ccfbc209</td>\n",
       "    </tr>\n",
       "    <tr>\n",
       "      <th>1113</th>\n",
       "      <td>0.000005</td>\n",
       "      <td>152d0c34-1548-4d25-a82c-418f6fb7ef24</td>\n",
       "      <td>75cb1ece-1c90-4465-9d6c-1409ccfbc209</td>\n",
       "    </tr>\n",
       "    <tr>\n",
       "      <th>1114</th>\n",
       "      <td>0.000005</td>\n",
       "      <td>a94a2ed7-8d86-488a-8e5c-241398152516</td>\n",
       "      <td>75cb1ece-1c90-4465-9d6c-1409ccfbc209</td>\n",
       "    </tr>\n",
       "    <tr>\n",
       "      <th>1115</th>\n",
       "      <td>0.000005</td>\n",
       "      <td>1092ad48-b000-408c-94f1-6046d2c3ab14</td>\n",
       "      <td>75cb1ece-1c90-4465-9d6c-1409ccfbc209</td>\n",
       "    </tr>\n",
       "    <tr>\n",
       "      <th>1116</th>\n",
       "      <td>0.000005</td>\n",
       "      <td>4da24a48-f5bd-4dc9-a827-2c842375ccda</td>\n",
       "      <td>2584ad06-28c2-4720-b35f-a77899ed0916</td>\n",
       "    </tr>\n",
       "  </tbody>\n",
       "</table>\n",
       "<p>1117 rows × 3 columns</p>\n",
       "</div>"
      ],
      "text/plain": [
       "          time                                 strat  \\\n",
       "0     0.000000  69b34917-07fe-4e08-9205-31506b8059e9   \n",
       "1     0.000000  e36ab371-9690-4082-a631-5b7cb9ebce6d   \n",
       "2     0.000000  2d459606-d9d2-4635-bb1e-58d1b0bf4fcb   \n",
       "3     0.000000  0a72b521-5842-49ac-bf4d-1a01d3121b44   \n",
       "4     0.000000  115bf7ff-7e63-423a-9074-ced0cca0b7a7   \n",
       "...        ...                                   ...   \n",
       "1112  0.000005  e1c01199-b84c-4981-b6ee-8eef86fba076   \n",
       "1113  0.000005  152d0c34-1548-4d25-a82c-418f6fb7ef24   \n",
       "1114  0.000005  a94a2ed7-8d86-488a-8e5c-241398152516   \n",
       "1115  0.000005  1092ad48-b000-408c-94f1-6046d2c3ab14   \n",
       "1116  0.000005  4da24a48-f5bd-4dc9-a827-2c842375ccda   \n",
       "\n",
       "                                     agent  \n",
       "0     d2438112-6e65-4bdf-84e7-0a068229d65a  \n",
       "1     8f808cbe-cd7e-4afa-aba5-d7bb0c198b7d  \n",
       "2     88855cb1-a6fe-47fa-8d5b-5abd2189c26f  \n",
       "3     623541a9-63b7-436b-9c5e-9ba1351dd15f  \n",
       "4     623541a9-63b7-436b-9c5e-9ba1351dd15f  \n",
       "...                                    ...  \n",
       "1112  75cb1ece-1c90-4465-9d6c-1409ccfbc209  \n",
       "1113  75cb1ece-1c90-4465-9d6c-1409ccfbc209  \n",
       "1114  75cb1ece-1c90-4465-9d6c-1409ccfbc209  \n",
       "1115  75cb1ece-1c90-4465-9d6c-1409ccfbc209  \n",
       "1116  2584ad06-28c2-4720-b35f-a77899ed0916  \n",
       "\n",
       "[1117 rows x 3 columns]"
      ]
     },
     "execution_count": 43,
     "metadata": {},
     "output_type": "execute_result"
    }
   ],
   "source": [
    "pd.DataFrame(m.mutate_history)"
   ]
  },
  {
   "cell_type": "markdown",
   "id": "c9c8e4cf",
   "metadata": {},
   "source": [
    "plt.plot(m.volume_history)\n",
    "plt.plot(np.sum(np.diff(m.market_state_history,axis=0),axis=1),label='market state diff')"
   ]
  },
  {
   "cell_type": "code",
   "execution_count": 47,
   "id": "ad2d8c37",
   "metadata": {},
   "outputs": [
    {
     "data": {
      "image/png": "[encoded data removed]",
      "text/plain": [
       "<Figure size 432x288 with 1 Axes>"
      ]
     },
     "metadata": {},
     "output_type": "display_data"
    }
   ],
   "source": [
    "get_activated_no = lambda k, act: len(lfilter(\n",
    "    lambda st: st.action == act and st.is_activated(m.market_state_history[k]), \n",
    "    np.squeeze(np.reshape(lmap(lambda d: d['strats'], m.action_history[k]), (1,-1)))\n",
    "))\n",
    "\n",
    "buysellstrats = np.transpose([(get_activated_no(k,1),get_activated_no(k,-1)) for k in range(len(m.action_history))])\n",
    "buy = buysellstrats[0]\n",
    "sell = buysellstrats[1]\n",
    "\n",
    "plt.title(\"Strategy buy/sell\")\n",
    "plt.plot(buy, label = 'buy')\n",
    "plt.plot(sell, label = 'sell')\n",
    "plt.legend(loc=\"lower right\");"
   ]
  },
  {
   "cell_type": "code",
   "execution_count": 49,
   "id": "29480a38",
   "metadata": {},
   "outputs": [],
   "source": [
    "get_action_no = lambda k, act: len(lfilter(\n",
    "    lambda st: st.action == act and st.is_activated(m.market_state_history[k]), \n",
    "    np.squeeze(np.reshape(lmap(lambda d: d['action']['type'], m.action_history[k]), (1,-1)))\n",
    "))"
   ]
  },
  {
   "cell_type": "code",
   "execution_count": 50,
   "id": "6d7c02c7",
   "metadata": {},
   "outputs": [
    {
     "ename": "AttributeError",
     "evalue": "'numpy.int64' object has no attribute 'action'",
     "output_type": "error",
     "traceback": [
      "\u001b[0;31m---------------------------------------------------------------------------\u001b[0m",
      "\u001b[0;31mAttributeError\u001b[0m                            Traceback (most recent call last)",
      "\u001b[0;32m<ipython-input-50-ca80a769ce90>\u001b[0m in \u001b[0;36m<module>\u001b[0;34m()\u001b[0m\n\u001b[0;32m----> 1\u001b[0;31m \u001b[0mbuysellactions\u001b[0m \u001b[0;34m=\u001b[0m \u001b[0mnp\u001b[0m\u001b[0;34m.\u001b[0m\u001b[0mtranspose\u001b[0m\u001b[0;34m(\u001b[0m\u001b[0;34m[\u001b[0m\u001b[0;34m(\u001b[0m\u001b[0mget_action_no\u001b[0m\u001b[0;34m(\u001b[0m\u001b[0mk\u001b[0m\u001b[0;34m,\u001b[0m\u001b[0;36m1\u001b[0m\u001b[0;34m)\u001b[0m\u001b[0;34m,\u001b[0m\u001b[0mget_action_no\u001b[0m\u001b[0;34m(\u001b[0m\u001b[0mk\u001b[0m\u001b[0;34m,\u001b[0m\u001b[0;34m-\u001b[0m\u001b[0;36m1\u001b[0m\u001b[0;34m)\u001b[0m\u001b[0;34m)\u001b[0m \u001b[0;32mfor\u001b[0m \u001b[0mk\u001b[0m \u001b[0;32min\u001b[0m \u001b[0mrange\u001b[0m\u001b[0;34m(\u001b[0m\u001b[0mlen\u001b[0m\u001b[0;34m(\u001b[0m\u001b[0mm\u001b[0m\u001b[0;34m.\u001b[0m\u001b[0maction_history\u001b[0m\u001b[0;34m)\u001b[0m\u001b[0;34m)\u001b[0m\u001b[0;34m]\u001b[0m\u001b[0;34m)\u001b[0m\u001b[0;34m\u001b[0m\u001b[0;34m\u001b[0m\u001b[0m\n\u001b[0m",
      "\u001b[0;32m<ipython-input-50-ca80a769ce90>\u001b[0m in \u001b[0;36m<listcomp>\u001b[0;34m(.0)\u001b[0m\n\u001b[0;32m----> 1\u001b[0;31m \u001b[0mbuysellactions\u001b[0m \u001b[0;34m=\u001b[0m \u001b[0mnp\u001b[0m\u001b[0;34m.\u001b[0m\u001b[0mtranspose\u001b[0m\u001b[0;34m(\u001b[0m\u001b[0;34m[\u001b[0m\u001b[0;34m(\u001b[0m\u001b[0mget_action_no\u001b[0m\u001b[0;34m(\u001b[0m\u001b[0mk\u001b[0m\u001b[0;34m,\u001b[0m\u001b[0;36m1\u001b[0m\u001b[0;34m)\u001b[0m\u001b[0;34m,\u001b[0m\u001b[0mget_action_no\u001b[0m\u001b[0;34m(\u001b[0m\u001b[0mk\u001b[0m\u001b[0;34m,\u001b[0m\u001b[0;34m-\u001b[0m\u001b[0;36m1\u001b[0m\u001b[0;34m)\u001b[0m\u001b[0;34m)\u001b[0m \u001b[0;32mfor\u001b[0m \u001b[0mk\u001b[0m \u001b[0;32min\u001b[0m \u001b[0mrange\u001b[0m\u001b[0;34m(\u001b[0m\u001b[0mlen\u001b[0m\u001b[0;34m(\u001b[0m\u001b[0mm\u001b[0m\u001b[0;34m.\u001b[0m\u001b[0maction_history\u001b[0m\u001b[0;34m)\u001b[0m\u001b[0;34m)\u001b[0m\u001b[0;34m]\u001b[0m\u001b[0;34m)\u001b[0m\u001b[0;34m\u001b[0m\u001b[0;34m\u001b[0m\u001b[0m\n\u001b[0m",
      "\u001b[0;32m<ipython-input-49-387dbfd40558>\u001b[0m in \u001b[0;36m<lambda>\u001b[0;34m(k, act)\u001b[0m\n\u001b[1;32m      1\u001b[0m get_action_no = lambda k, act: len(lfilter(\n\u001b[1;32m      2\u001b[0m     \u001b[0;32mlambda\u001b[0m \u001b[0mst\u001b[0m\u001b[0;34m:\u001b[0m \u001b[0mst\u001b[0m\u001b[0;34m.\u001b[0m\u001b[0maction\u001b[0m \u001b[0;34m==\u001b[0m \u001b[0mact\u001b[0m \u001b[0;32mand\u001b[0m \u001b[0mst\u001b[0m\u001b[0;34m.\u001b[0m\u001b[0mis_activated\u001b[0m\u001b[0;34m(\u001b[0m\u001b[0mm\u001b[0m\u001b[0;34m.\u001b[0m\u001b[0mmarket_state_history\u001b[0m\u001b[0;34m[\u001b[0m\u001b[0mk\u001b[0m\u001b[0;34m]\u001b[0m\u001b[0;34m)\u001b[0m\u001b[0;34m,\u001b[0m\u001b[0;34m\u001b[0m\u001b[0;34m\u001b[0m\u001b[0m\n\u001b[0;32m----> 3\u001b[0;31m     \u001b[0mnp\u001b[0m\u001b[0;34m.\u001b[0m\u001b[0msqueeze\u001b[0m\u001b[0;34m(\u001b[0m\u001b[0mnp\u001b[0m\u001b[0;34m.\u001b[0m\u001b[0mreshape\u001b[0m\u001b[0;34m(\u001b[0m\u001b[0mlmap\u001b[0m\u001b[0;34m(\u001b[0m\u001b[0;32mlambda\u001b[0m \u001b[0md\u001b[0m\u001b[0;34m:\u001b[0m \u001b[0md\u001b[0m\u001b[0;34m[\u001b[0m\u001b[0;34m'action'\u001b[0m\u001b[0;34m]\u001b[0m\u001b[0;34m[\u001b[0m\u001b[0;34m'type'\u001b[0m\u001b[0;34m]\u001b[0m\u001b[0;34m,\u001b[0m \u001b[0mm\u001b[0m\u001b[0;34m.\u001b[0m\u001b[0maction_history\u001b[0m\u001b[0;34m[\u001b[0m\u001b[0mk\u001b[0m\u001b[0;34m]\u001b[0m\u001b[0;34m)\u001b[0m\u001b[0;34m,\u001b[0m \u001b[0;34m(\u001b[0m\u001b[0;36m1\u001b[0m\u001b[0;34m,\u001b[0m\u001b[0;34m-\u001b[0m\u001b[0;36m1\u001b[0m\u001b[0;34m)\u001b[0m\u001b[0;34m)\u001b[0m\u001b[0;34m)\u001b[0m\u001b[0;34m\u001b[0m\u001b[0;34m\u001b[0m\u001b[0m\n\u001b[0m\u001b[1;32m      4\u001b[0m ))\n",
      "\u001b[0;32m/home/erik/Projects/fin/nutil.py\u001b[0m in \u001b[0;36m<lambda>\u001b[0;34m(f, l)\u001b[0m\n\u001b[1;32m      6\u001b[0m \u001b[0;34m\u001b[0m\u001b[0m\n\u001b[1;32m      7\u001b[0m \u001b[0mlmap\u001b[0m \u001b[0;34m=\u001b[0m \u001b[0;32mlambda\u001b[0m \u001b[0mf\u001b[0m\u001b[0;34m,\u001b[0m\u001b[0ml\u001b[0m\u001b[0;34m:\u001b[0m \u001b[0mlist\u001b[0m\u001b[0;34m(\u001b[0m\u001b[0mmap\u001b[0m\u001b[0;34m(\u001b[0m\u001b[0mf\u001b[0m\u001b[0;34m,\u001b[0m\u001b[0ml\u001b[0m\u001b[0;34m)\u001b[0m\u001b[0;34m)\u001b[0m\u001b[0;34m\u001b[0m\u001b[0;34m\u001b[0m\u001b[0m\n\u001b[0;32m----> 8\u001b[0;31m \u001b[0mlfilter\u001b[0m \u001b[0;34m=\u001b[0m \u001b[0;32mlambda\u001b[0m \u001b[0mf\u001b[0m\u001b[0;34m,\u001b[0m\u001b[0ml\u001b[0m\u001b[0;34m:\u001b[0m \u001b[0mlist\u001b[0m\u001b[0;34m(\u001b[0m\u001b[0mfilter\u001b[0m\u001b[0;34m(\u001b[0m\u001b[0mf\u001b[0m\u001b[0;34m,\u001b[0m\u001b[0ml\u001b[0m\u001b[0;34m)\u001b[0m\u001b[0;34m)\u001b[0m\u001b[0;34m\u001b[0m\u001b[0;34m\u001b[0m\u001b[0m\n\u001b[0m\u001b[1;32m      9\u001b[0m \u001b[0mget_bought_sold_ts\u001b[0m \u001b[0;34m=\u001b[0m \u001b[0;32mlambda\u001b[0m \u001b[0maction_df\u001b[0m\u001b[0;34m:\u001b[0m \u001b[0;34m(\u001b[0m\u001b[0mtotal_bought\u001b[0m\u001b[0;34m(\u001b[0m\u001b[0mget_actions\u001b[0m\u001b[0;34m(\u001b[0m\u001b[0maction_df\u001b[0m\u001b[0;34m)\u001b[0m\u001b[0;34m)\u001b[0m\u001b[0;34m,\u001b[0m\u001b[0mtotal_sold\u001b[0m\u001b[0;34m(\u001b[0m\u001b[0mget_actions\u001b[0m\u001b[0;34m(\u001b[0m\u001b[0maction_df\u001b[0m\u001b[0;34m)\u001b[0m\u001b[0;34m)\u001b[0m\u001b[0;34m,\u001b[0m\u001b[0mget_ts\u001b[0m\u001b[0;34m(\u001b[0m\u001b[0maction_df\u001b[0m\u001b[0;34m)\u001b[0m\u001b[0;34m)\u001b[0m\u001b[0;34m\u001b[0m\u001b[0;34m\u001b[0m\u001b[0m\n\u001b[1;32m     10\u001b[0m \u001b[0mtotal_bought\u001b[0m \u001b[0;34m=\u001b[0m \u001b[0;32mlambda\u001b[0m \u001b[0mactions\u001b[0m\u001b[0;34m:\u001b[0m \u001b[0mnp\u001b[0m\u001b[0;34m.\u001b[0m\u001b[0msum\u001b[0m\u001b[0;34m(\u001b[0m\u001b[0mlmap\u001b[0m\u001b[0;34m(\u001b[0m\u001b[0;32mlambda\u001b[0m \u001b[0md\u001b[0m\u001b[0;34m:\u001b[0m \u001b[0md\u001b[0m\u001b[0;34m[\u001b[0m\u001b[0;34m'amount'\u001b[0m\u001b[0;34m]\u001b[0m\u001b[0;34m,\u001b[0m \u001b[0mfilter\u001b[0m\u001b[0;34m(\u001b[0m\u001b[0;32mlambda\u001b[0m \u001b[0md\u001b[0m\u001b[0;34m:\u001b[0m \u001b[0md\u001b[0m\u001b[0;34m[\u001b[0m\u001b[0;34m'type'\u001b[0m\u001b[0;34m]\u001b[0m \u001b[0;34m==\u001b[0m \u001b[0mBUY\u001b[0m\u001b[0;34m,\u001b[0m \u001b[0mactions\u001b[0m\u001b[0;34m)\u001b[0m\u001b[0;34m)\u001b[0m\u001b[0;34m)\u001b[0m\u001b[0;34m\u001b[0m\u001b[0;34m\u001b[0m\u001b[0m\n",
      "\u001b[0;32m<ipython-input-49-387dbfd40558>\u001b[0m in \u001b[0;36m<lambda>\u001b[0;34m(st)\u001b[0m\n\u001b[1;32m      1\u001b[0m get_action_no = lambda k, act: len(lfilter(\n\u001b[0;32m----> 2\u001b[0;31m     \u001b[0;32mlambda\u001b[0m \u001b[0mst\u001b[0m\u001b[0;34m:\u001b[0m \u001b[0mst\u001b[0m\u001b[0;34m.\u001b[0m\u001b[0maction\u001b[0m \u001b[0;34m==\u001b[0m \u001b[0mact\u001b[0m \u001b[0;32mand\u001b[0m \u001b[0mst\u001b[0m\u001b[0;34m.\u001b[0m\u001b[0mis_activated\u001b[0m\u001b[0;34m(\u001b[0m\u001b[0mm\u001b[0m\u001b[0;34m.\u001b[0m\u001b[0mmarket_state_history\u001b[0m\u001b[0;34m[\u001b[0m\u001b[0mk\u001b[0m\u001b[0;34m]\u001b[0m\u001b[0;34m)\u001b[0m\u001b[0;34m,\u001b[0m\u001b[0;34m\u001b[0m\u001b[0;34m\u001b[0m\u001b[0m\n\u001b[0m\u001b[1;32m      3\u001b[0m     \u001b[0mnp\u001b[0m\u001b[0;34m.\u001b[0m\u001b[0msqueeze\u001b[0m\u001b[0;34m(\u001b[0m\u001b[0mnp\u001b[0m\u001b[0;34m.\u001b[0m\u001b[0mreshape\u001b[0m\u001b[0;34m(\u001b[0m\u001b[0mlmap\u001b[0m\u001b[0;34m(\u001b[0m\u001b[0;32mlambda\u001b[0m \u001b[0md\u001b[0m\u001b[0;34m:\u001b[0m \u001b[0md\u001b[0m\u001b[0;34m[\u001b[0m\u001b[0;34m'action'\u001b[0m\u001b[0;34m]\u001b[0m\u001b[0;34m[\u001b[0m\u001b[0;34m'type'\u001b[0m\u001b[0;34m]\u001b[0m\u001b[0;34m,\u001b[0m \u001b[0mm\u001b[0m\u001b[0;34m.\u001b[0m\u001b[0maction_history\u001b[0m\u001b[0;34m[\u001b[0m\u001b[0mk\u001b[0m\u001b[0;34m]\u001b[0m\u001b[0;34m)\u001b[0m\u001b[0;34m,\u001b[0m \u001b[0;34m(\u001b[0m\u001b[0;36m1\u001b[0m\u001b[0;34m,\u001b[0m\u001b[0;34m-\u001b[0m\u001b[0;36m1\u001b[0m\u001b[0;34m)\u001b[0m\u001b[0;34m)\u001b[0m\u001b[0;34m)\u001b[0m\u001b[0;34m\u001b[0m\u001b[0;34m\u001b[0m\u001b[0m\n\u001b[1;32m      4\u001b[0m ))\n",
      "\u001b[0;31mAttributeError\u001b[0m: 'numpy.int64' object has no attribute 'action'"
     ]
    }
   ],
   "source": [
    "m.action_history"
   ]
  },
  {
   "cell_type": "code",
   "execution_count": 44,
   "id": "4284d97c",
   "metadata": {},
   "outputs": [
    {
     "data": {
      "image/png": "[encoded data removed]",
      "text/plain": [
       "<Figure size 432x288 with 1 Axes>"
      ]
     },
     "metadata": {},
     "output_type": "display_data"
    }
   ],
   "source": [
    "df = pd.DataFrame(lmap(get_bought_sold_ts, m.action_history))\n",
    "\n",
    "df.columns = ['buy','sell','ts']\n",
    "\n",
    "plt.title(\"Action buy/sell\")\n",
    "plt.plot(df.buy,label='buy')\n",
    "plt.plot(df.sell,label='sell')\n",
    "plt.plot(np.sum(np.diff(m.market_state_history,axis=0),axis=1),label='market state diff')\n",
    "plt.legend(loc=\"upper right\");"
   ]
  },
  {
   "cell_type": "code",
   "execution_count": 45,
   "id": "bfed1521",
   "metadata": {},
   "outputs": [
    {
     "data": {
      "text/plain": [
       "(array([ 0,  1,  2,  3,  4,  5,  6,  7, 14, 18, 19, 23, 24, 28, 29, 33, 35,\n",
       "        37, 40, 41, 42, 43, 45, 46, 47, 48, 50, 51, 52, 53, 55, 56, 57, 58]),\n",
       " ['Price is over 0.2 times fundamental value',\n",
       "  'Price is over 0.8 times fundamental value',\n",
       "  'Price is over 1.4 times fundamental value',\n",
       "  'Price is over 2.0 times fundamental value',\n",
       "  'Price is over 2.5 times fundamental value',\n",
       "  'Price is over 3.1 times fundamental value',\n",
       "  'Price is over 3.7 times fundamental value',\n",
       "  'Price is over 4.2 times fundamental value',\n",
       "  'Price is over 0.8 times last 5 timestep avg',\n",
       "  'Price is over 0.5 times last 9 timestep avg',\n",
       "  'Price is over 0.8 times last 9 timestep avg',\n",
       "  'Price is over 0.5 times last 13 timestep avg',\n",
       "  'Price is over 0.8 times last 13 timestep avg',\n",
       "  'Price is over 0.5 times last 17 timestep avg',\n",
       "  'Price is over 0.8 times last 17 timestep avg',\n",
       "  'Stdev is more than 0.0 over last 5 timesteps',\n",
       "  'Stdev is more than 0.0 over last 11 timesteps',\n",
       "  'Stdev is more than 0.0 over last 17 timesteps',\n",
       "  'Volume is more than 1.3 over last 1 timestep avg',\n",
       "  'Volume is more than 2.5 over last 1 timestep avg',\n",
       "  'Volume is more than 3.8 over last 1 timestep avg',\n",
       "  'Volume is more than 5.0 over last 1 timestep avg',\n",
       "  'Volume is more than 1.3 over last 2 timestep avg',\n",
       "  'Volume is more than 2.5 over last 2 timestep avg',\n",
       "  'Volume is more than 3.8 over last 2 timestep avg',\n",
       "  'Volume is more than 5.0 over last 2 timestep avg',\n",
       "  'Volume is more than 1.3 over last 3 timestep avg',\n",
       "  'Volume is more than 2.5 over last 3 timestep avg',\n",
       "  'Volume is more than 3.8 over last 3 timestep avg',\n",
       "  'Volume is more than 5.0 over last 3 timestep avg',\n",
       "  'Volume is more than 1.3 over last 5 timestep avg',\n",
       "  'Volume is more than 2.5 over last 5 timestep avg',\n",
       "  'Volume is more than 3.8 over last 5 timestep avg',\n",
       "  'Volume is more than 5.0 over last 5 timestep avg'])"
      ]
     },
     "execution_count": 45,
     "metadata": {},
     "output_type": "execute_result"
    }
   ],
   "source": [
    "# List changed signals\n",
    "np.unique(np.argwhere(np.diff(m.market_state_history,axis=0))[:,1]), \\\n",
    "lmap(\n",
    "    lambda d: d['description'],\n",
    "    np.array(m.signals)[\n",
    "        np.unique(np.argwhere(np.diff(m.market_state_history,axis=0))[:,1])\n",
    "    ]\n",
    ")"
   ]
  },
  {
   "cell_type": "code",
   "execution_count": 46,
   "id": "d6583fe6",
   "metadata": {},
   "outputs": [
    {
     "data": {
      "image/png": "[encoded data removed]",
      "text/plain": [
       "<Figure size 432x288 with 1 Axes>"
      ]
     },
     "metadata": {},
     "output_type": "display_data"
    }
   ],
   "source": [
    "plt.title(\"Price/vol\")\n",
    "plt.plot(m.price_history, label = 'Price history')\n",
    "plt.plot(m.volume_history, label = 'Vol history')\n",
    "plt.legend(loc=\"lower right\");"
   ]
  },
  {
   "cell_type": "markdown",
   "id": "2263f53c",
   "metadata": {},
   "source": [
    "## Finding strategies that have changed\n",
    "\n",
    "Average strength of strat should increase in time? Confident experts in some conditions?"
   ]
  },
  {
   "cell_type": "code",
   "execution_count": 14,
   "id": "76582364",
   "metadata": {},
   "outputs": [
    {
     "data": {
      "text/plain": [
       "'---\\nAction : -1,Market indicators: [ 1  3  4  5  6  9 15 20 23 29 34 39 42 43 44 46 47 48 52 53 54],\\nCondition: [1, 0, 1, 1, 1, 0, 0, 0, 0, 1, 0, 0, 0, 0, 1, 0, 0, 1, 0, 1, 1]\\n---'"
      ]
     },
     "execution_count": 14,
     "metadata": {},
     "output_type": "execute_result"
    }
   ],
   "source": [
    "str(m.action_history[0][0]['strats'][0])"
   ]
  },
  {
   "cell_type": "code",
   "execution_count": 19,
   "id": "f7e7ed60",
   "metadata": {},
   "outputs": [],
   "source": [
    "nfilter = lambda f, l: next(filter(f, l))"
   ]
  },
  {
   "cell_type": "code",
   "execution_count": 30,
   "id": "7e2f2b5b",
   "metadata": {},
   "outputs": [],
   "source": [
    "def is_diff(i : int, ag_uid: str):\n",
    "    ag = nfilter(lambda d: d['name'] == ag_uid, m.action_history[i])\n",
    "    ag2 = nfilter(lambda d: d['name'] == ag_uid, m.action_history[i+1])\n",
    "    return ''.join(lmap(str,ag['strats'])) == ''.join(lmap(str,ag2['strats']))"
   ]
  },
  {
   "cell_type": "code",
   "execution_count": 34,
   "id": "01622079",
   "metadata": {},
   "outputs": [],
   "source": [
    "for uid in lmap(lambda d: d['name'], m.action_history[0]):\n",
    "    for i in range(29):\n",
    "        if is_diff(i, uid):\n",
    "            print(i)"
   ]
  },
  {
   "cell_type": "code",
   "execution_count": null,
   "id": "cfdd12ff",
   "metadata": {},
   "outputs": [],
   "source": []
  }
 ],
 "metadata": {
  "kernelspec": {
   "display_name": "Python 3",
   "language": "python",
   "name": "python3"
  },
  "language_info": {
   "codemirror_mode": {
    "name": "ipython",
    "version": 3
   },
   "file_extension": ".py",
   "mimetype": "text/x-python",
   "name": "python",
   "nbconvert_exporter": "python",
   "pygments_lexer": "ipython3",
   "version": "3.9.5"
  }
 },
 "nbformat": 4,
 "nbformat_minor": 5
}
