{
 "cells": [
  {
   "cell_type": "code",
   "execution_count": 24,
   "id": "dbf5b119",
   "metadata": {},
   "outputs": [
    {
     "data": {
      "image/png": "[encoded data removed]",
      "text/plain": [
       "<Figure size 576x288 with 1 Axes>"
      ]
     },
     "metadata": {
      "needs_background": "light"
     },
     "output_type": "display_data"
    }
   ],
   "source": [
    "import numpy as np\n",
    "import pandas as pd\n",
    "import matplotlib.pyplot as plt\n",
    "from nutil import *\n",
    "# plt.style.use('ggplot')\n",
    "plt.style.use('dark_background')\n",
    "%load_ext autoreload\n",
    "\n",
    "%autoreload 2"
   ]
  },
  {
   "cell_type": "markdown",
   "id": "c6a3a27f",
   "metadata": {},
   "source": [
    "\n",
    "## Creating signals\n",
    "  https://janboone.github.io/python_economics/economics.html#org31136ad"
   ]
  },
  {
   "cell_type": "markdown",
   "id": "62cdad11",
   "metadata": {},
   "source": [
    "# Ornstein-Uhlenbeck process"
   ]
  },
  {
   "cell_type": "code",
   "execution_count": 21,
   "id": "d93d99bd",
   "metadata": {
    "scrolled": true
   },
   "outputs": [],
   "source": [
    "# fig, ax = plt.subplots(1, 1, figsize=(8, 4))\n",
    "# t,x = ou_process(dt=10**(-6), r=3)\n",
    "# x /= 10\n",
    "# ax.plot(t, x, lw=1)\n",
    "\n",
    "SELL, BUY = -1, 1\n",
    "get_stock_total = lambda agents: np.sum(list(map(lambda d: d['stock'], agents)))\n",
    "get_wealth_total = lambda agents: np.sum(list(map(lambda d: d['wealth'], agents)))\n",
    "\n",
    "get_stock_amount = lambda d: (-1)**(d['action']['type'] == SELL)*d['action']['amount']\n",
    "get_volume = lambda l: np.min([np.sum((np.array(l)>0)*l), -np.sum((np.array(l)<0)*l)])\n",
    "get_volume_history = lambda: list(map(lambda l: get_volume(list(map(get_stock_amount, l))), action_history))\n",
    "\n",
    "lmap = lambda f,l: list(map(f,l))\n",
    "lfilter = lambda f,l: list(filter(f,l))\n",
    "\n",
    "get_actions = lambda agents: lfilter(lambda o: o != None, lmap(lambda a: a.get('action'), agents))\n",
    "get_strat_strength = lambda s: s.strength\n",
    "get_strats = lambda agents: np.squeeze(np.reshape([agent['strats'] for agent in agents], (1,-1)))\n",
    "\n",
    "total_bought = lambda actions: np.sum(lmap(lambda d: d['amount'], filter(lambda d: d['type'] == BUY, actions)))\n",
    "total_sold = lambda actions: np.sum(lmap(lambda d: d['amount'], filter(lambda d: d['type'] == SELL, actions)))\n",
    "get_ts = lambda action_df: action_df[0]['timestamp']\n",
    "\n",
    "get_bought_sold_ts = lambda action_df: (total_bought(get_actions(action_df)),total_sold(get_actions(action_df)),get_ts(action_df))"
   ]
  },
  {
   "cell_type": "code",
   "execution_count": 25,
   "id": "19b3fc4b",
   "metadata": {},
   "outputs": [],
   "source": [
    "m = Market()"
   ]
  },
  {
   "cell_type": "code",
   "execution_count": 26,
   "id": "5dee7ee6",
   "metadata": {},
   "outputs": [
    {
     "name": "stdout",
     "output_type": "stream",
     "text": [
      "0.00 percent done.\n",
      "20.00 percent done.\n",
      "40.00 percent done.\n",
      "60.00 percent done.\n",
      "80.00 percent done.\n"
     ]
    }
   ],
   "source": [
    "m.simulate_k_steps(50)"
   ]
  },
  {
   "cell_type": "code",
   "execution_count": 28,
   "id": "c33f224a",
   "metadata": {},
   "outputs": [
    {
     "name": "stdout",
     "output_type": "stream",
     "text": [
      "from strategy import *\r\n",
      "from uuid import uuid4 as UUID\r\n",
      "import numpy as np\r\n",
      "from copy import deepcopy as copy\r\n",
      "from util import ou_process\r\n",
      "\r\n",
      "lmap = lambda f,l: list(map(f,l))\r\n",
      "lfilter = lambda f,l: list(filter(f,l))\r\n",
      "get_bought_sold_ts = lambda action_df: (total_bought(get_actions(action_df)),total_sold(get_actions(action_df)),get_ts(action_df))\r\n",
      "total_bought = lambda actions: np.sum(lmap(lambda d: d['amount'], filter(lambda d: d['type'] == BUY, actions)))\r\n",
      "total_sold = lambda actions: np.sum(lmap(lambda d: d['amount'], filter(lambda d: d['type'] == SELL, actions)))\r\n",
      "get_ts = lambda action_df: action_df[0]['timestamp']\r\n",
      "get_actions = lambda agents: lfilter(lambda o: o != None, lmap(lambda a: a.get('action'), agents))\r\n",
      "get_strat_strength = lambda s: s.strength\r\n",
      "get_strats = lambda agents: np.squeeze(np.reshape([agent['strats'] for agent in agents], (1,-1)))\r\n",
      "\r\n",
      "SELL, BUY = -1, 1\r\n",
      "\r\n",
      "def clear(agent: dict, verbose: bool = False) -> dict:\r\n",
      "        \"\"\"Transacts each agent's action and sets new action to None\r\n",
      "\r\n",
      "        Order is important:\r\n",
      "            1) cash earns r\r\n",
      "            2) stock price change changes wealth\r\n",
      "            3) stock is bought/sold (liquidity changes inherently)\r\n",
      "\r\n",
      "        Aka Clearing House function\r\n",
      "        \"\"\"\r\n",
      "        agent['wealth'] += dividend * agent['stock']/stock_total\r\n",
      "\r\n",
      "        if agent.get('action') == None or B == 0 or O == 0:\r\n",
      "            return agent\r\n",
      "\r\n",
      "        stock_diff = (agent['action']['type']==BUY) * V/B * agent['action']['amount'] -\\\r\n",
      "            (agent['action']['type']==SELL) * V/O * agent['action']['amount']\r\n",
      "        agent['timestamp'] = ts\r\n",
      "        agent['wealth'] += calculate_agent_cash(agent) * r #cash earned risk free rate\r\n",
      "        agent['wealth'] += agent['stock'] * (price-price_history[-1]) # how much stock worth changed.\r\n",
      "        agent['stock'] += stock_diff #buy/sell happens at new price\r\n",
      "        if agent['stock'] < 0. or agent['wealth'] < 0.:\r\n",
      "            print(ts, agent['wealth'], agent['stock'])\r\n",
      "            assert False\r\n",
      "        if verbose:\r\n",
      "            print(\"Agent aquired dividend wealth: %s\" % (dividend * agent['stock']/stock_total))\r\n",
      "            print(\"Stock diff is %s\" % stock_diff)\r\n",
      "        agent.pop('action')\r\n",
      "        return agent\r\n",
      "\r\n",
      "def create_agent():\r\n",
      "    name = str(UUID())\r\n",
      "    return {\r\n",
      "        'name': name,\r\n",
      "        'strats': [Strategy(agent=name) for _ in range(60)],\r\n",
      "        'wealth': 10.**4,\r\n",
      "        'stock': 100.,\r\n",
      "        'action': {'type': np.random.choice([BUY,SELL]), 'amount': 1}\r\n",
      "    }\r\n",
      "\r\n",
      "class Market:\r\n",
      "    \"\"\"Handles all variables normally. Not having a class made \r\n",
      "    it a nightmare to keep global variables. Also this is a bad\r\n",
      "    class, because it handles both market logic and strat feedback.\r\n",
      "    \"\"\"\r\n",
      "    \r\n",
      "    def __init__(self,no_agents=150, mutate_prob=0.02):        \r\n",
      "        self.r = 0.02/252\r\n",
      "        self.dividend = 1./252.\r\n",
      "        self.price = 10.\r\n",
      "        self.c = 0.001\r\n",
      "        self.s_min,self.s_max=-1,1\r\n",
      "        self.eta = 0.001\r\n",
      "        self.t,self.x = ou_process(mu = self.dividend, dt=10**(-6),r=3)\r\n",
      "        self.dividend_with_timestamp = iter(zip(self.x,self.t))\r\n",
      "        self.signals = []\r\n",
      "        self.mutate_prob = mutate_prob\r\n",
      "\r\n",
      "        self.price_history = [self.price,self.price]\r\n",
      "        self.volume_history = [1,1]\r\n",
      "        self.dividend_history = [self.dividend,self.dividend]\r\n",
      "        self.action_history = []\r\n",
      "        self.market_state_history = []\r\n",
      "        self.ts_history = [] #tmp dealing with some bug\r\n",
      "        self.mutate_history = []\r\n",
      "\r\n",
      "        self.no_agents = no_agents\r\n",
      "        self.agents = [create_agent() for _ in range(self.no_agents)]\r\n",
      "        self.stock_total = self.no_agents*10.\r\n",
      "        self.market_state = []\r\n",
      "        self.B,self.O,self.V = 0.,0.,0.\r\n",
      "        \r\n",
      "        self.create_signals()\r\n",
      "        self.update_market_state()\r\n",
      "\r\n",
      "    def update_market_state(self):\r\n",
      "        self.market_state = np.array([signal_dict['signal']() for signal_dict in self.signals])\r\n",
      "        \r\n",
      "    def feedback_all(self):\r\n",
      "        for agent in self.agents:\r\n",
      "            for strat in agent['strats']:\r\n",
      "                self.feedback(strat)\r\n",
      "                \r\n",
      "    def clear(self, agent: dict, verbose: bool = False) -> dict:\r\n",
      "        \"\"\"Transacts each agent's action and sets new action to None\r\n",
      "\r\n",
      "        Order is important:\r\n",
      "            1) cash earns r\r\n",
      "            2) stock price change changes wealth\r\n",
      "            3) stock is bought/sold (liquidity changes inherently)\r\n",
      "\r\n",
      "        Aka Clearing House function\r\n",
      "        \"\"\"\r\n",
      "        def calculate_agent_cash(agent: dict) -> float:\r\n",
      "                \"\"\"Return the liquidity of an agent. How much stock can be bought.\"\"\"\r\n",
      "                return agent['wealth'] - agent['stock'] * self.price\r\n",
      "\r\n",
      "        agent['wealth'] += self.dividend * agent['stock']/self.stock_total\r\n",
      "\r\n",
      "        if agent.get('action') == None or self.B == 0 or self.O == 0:\r\n",
      "            return agent\r\n",
      "\r\n",
      "        stock_diff = (agent['action']['type']==BUY) * self.V/self.B * agent['action']['amount'] -\\\r\n",
      "            (agent['action']['type']==SELL) * self.V/self.O * agent['action']['amount']\r\n",
      "        agent['timestamp'] = self.ts\r\n",
      "        agent['wealth'] += calculate_agent_cash(agent) * self.r #cash earned risk free rate\r\n",
      "        agent['wealth'] += agent['stock'] * (self.price-self.price_history[-1]) # how much stock worth changed.\r\n",
      "        agent['stock'] += stock_diff #buy/sell happens at new price\r\n",
      "        if agent['stock'] < 0. or agent['wealth'] < 0.:\r\n",
      "            print(self.ts, agent['wealth'], agent['stock'])\r\n",
      "            assert False\r\n",
      "        if verbose:\r\n",
      "            print(\"Agent aquired dividend wealth: %s\" % (self.dividend * agent['stock']/self.stock_total))\r\n",
      "            print(\"Stock diff is %s\" % stock_diff)\r\n",
      "        agent.pop('action')\r\n",
      "        return agent\r\n",
      "    \r\n",
      "    def transact(self, agents: list, verbose: bool = False) -> list:\r\n",
      "        \"\"\"Clear all transactions.\r\n",
      "\r\n",
      "        Return: deepcopied agents with cleared transactions and removed action from dict\r\n",
      "\r\n",
      "        If there are more buy bids then fraction of all gets through.\r\n",
      "        This is the rationing scheme mentioned in the paper.\r\n",
      "\r\n",
      "        B - bid total\r\n",
      "        O - offer total\r\n",
      "        V - volume (minimum of O, B)\r\n",
      "        \"\"\"\r\n",
      "\r\n",
      "#         global price, stock_total, dividend, B, O, V, ts\r\n",
      "        self.dividend, self.ts = next(self.dividend_with_timestamp)\r\n",
      "        self.dividend = max(0,self.dividend)\r\n",
      "        self.ts_history.append((self.dividend, self.ts))\r\n",
      "        agents = list(map(copy, agents))\r\n",
      "\r\n",
      "        iter_t = lambda action_type: filter(lambda d: d.get('action', {}).get('type') == action_type, agents)\r\n",
      "        buyers = list(iter_t(1))\r\n",
      "        sellers = list(iter_t(-1))\r\n",
      "\r\n",
      "        self.B = np.sum(list(\r\n",
      "            map(lambda d: d['action']['amount'],\r\n",
      "            buyers)\r\n",
      "        ))\r\n",
      "        self.O = np.sum(list(\r\n",
      "            map(lambda d: d['action']['amount'],\r\n",
      "            sellers)\r\n",
      "        ))\r\n",
      "        self.V = min(self.B,self.O)\r\n",
      "        if (self.V > 0. and verbose):\r\n",
      "            print(\"transaction happened: B=%s,O=%s\"%(B,O))\r\n",
      "\r\n",
      "        #oldprice = self.price\r\n",
      "        #TODO: Is this where signals ought to be called?\r\n",
      "        self.price *= 1 + self.eta*(self.B-self.O)\r\n",
      "        self.price_history.append(self.price)\r\n",
      "        self.volume_history.append(self.V)\r\n",
      "        self.dividend_history.append(self.dividend)\r\n",
      "\r\n",
      "        #print('After transacting (B=%s ;O=%s), %.3f -> %.3f ' % (self.B,self.O,oldprice,self.price) )\r\n",
      "\r\n",
      "        return list(map(self.clear, agents))\r\n",
      "    \r\n",
      "    def feedback(self, strat):\r\n",
      "        if not strat.is_activated(self.market_state):\r\n",
      "            k = np.random.choice([0,1,2,3,4],p=[1-self.mutate_prob,self.mutate_prob/4,self.mutate_prob/4,self.mutate_prob/4,self.mutate_prob/4])\r\n",
      "            strat.mutate_existing(k=k)\r\n",
      "            if k > 0: self.mutate_history.append({'time':self.ts,'strat':strat.name,'agent':strat.agent})\r\n",
      "            #if k > 0: print(strat.name)\r\n",
      "        if strat.is_activated(self.market_state):\r\n",
      "            strat.strength = (1-self.c)*strat.strength + self.c*strat.action*(self.price_history[-1]-(1+self.r)*self.price_history[-2]+self.dividend_history[-1])\r\n",
      "            strat.strength = max(min(self.s_max, strat.strength),self.s_min)\r\n",
      "            if strat.strength < -0.3:\r\n",
      "                #print('inverted', strat.name)\r\n",
      "                strat.strength = 0.3\r\n",
      "                strat.action *= -1\r\n",
      "                \r\n",
      "                \r\n",
      "    def create_and_add_signal(self, description: str, formula) -> dict:\r\n",
      "            \"\"\"Add dict market signal object with description and signal\"\"\"\r\n",
      "            self.signals.append({'description': description, 'signal': formula})\r\n",
      "            \r\n",
      "    def fundamental_value(self):\r\n",
      "        \"\"\"p[t] == dividend/risk_free_rate\"\"\"\r\n",
      "        return self.dividend/(self.r)\r\n",
      "        \r\n",
      "    def create_signals(self):\r\n",
      "        \"\"\"Fundamental price signal\"\"\"\r\n",
      "        s = 'Price is over %s times fundamental value'\r\n",
      "        for ratio in np.round(np.linspace(0.25,4.25,8),1):\r\n",
      "            self.create_and_add_signal(\r\n",
      "                description = s % ratio,\r\n",
      "                formula = lambda ratio=ratio: self.price > ratio * self.fundamental_value()\r\n",
      "            )\r\n",
      "\r\n",
      "        \"\"\"Avg relative signal compared to last k days\"\"\"\r\n",
      "        s = 'Price is over %s times last %s timestep avg'\r\n",
      "        for k in np.linspace(1,17,5).astype(np.int64):\r\n",
      "            for ratio in np.round(np.linspace(0.5,1.5,5),1):\r\n",
      "                self.create_and_add_signal(\r\n",
      "                    description = s % (ratio, k),\r\n",
      "                    formula = lambda ratio=ratio,k=k: self.price > ratio * np.mean(self.price_history[-k:])\r\n",
      "                )\r\n",
      "\r\n",
      "        \"\"\"Std volatility signal\"\"\"\r\n",
      "        s = 'Stdev is more than %s over last %s timesteps'\r\n",
      "        for k in np.linspace(5,17,3).astype(np.int64):\r\n",
      "            for stdev_norm in np.round(np.linspace(0.001,100,2),1):\r\n",
      "                self.create_and_add_signal(\r\n",
      "                    description = s % (stdev_norm, k),\r\n",
      "                    formula = lambda stdev_norm=stdev_norm,k=k: stdev_norm < np.std(self.price_history[-k:])\r\n",
      "                )\r\n",
      "\r\n",
      "        \"\"\"Volume signal\"\"\"\r\n",
      "        s = 'Volume is more than %s over last %s timestep avg'\r\n",
      "        for k in np.linspace(1,5,4).astype(np.int64):\r\n",
      "            for vol_norm in np.round(np.linspace(0.01,5,5),1):\r\n",
      "                self.create_and_add_signal(\r\n",
      "                    description = s % (vol_norm, k),\r\n",
      "                    formula = lambda vol_norm=vol_norm,k=k: vol_norm < np.mean(self.volume_history[-k:])\r\n",
      "                )\r\n",
      "        \r\n",
      "    def simulate_k_steps(self, k: int = 1):\r\n",
      "        for i in range(k):\r\n",
      "            self.market_state_history.append(self.market_state)\r\n",
      "            self.agents = self.transact(self.agents)\r\n",
      "            self.update_market_state()\r\n",
      "            self.feedback_all()\r\n",
      "            self.set_next_actions(self.agents)\r\n",
      "            self.action_history.append(copy(self.agents))\r\n",
      "            if int(100*(i/k)) % 20 == 0 and k > 20 and i % 10 == 0:\r\n",
      "                print(\"%.2f percent done.\" % int(100*(i/k)) )  \r\n",
      "            \r\n",
      "    def set_next_actions(self, agents: list) -> None:\r\n",
      "        \"\"\"Set random actions within boundaries (no short selling, negative wealth)\"\"\"\r\n",
      "        def set_next_action(agent: dict) -> None:\r\n",
      "            def calculate_agent_cash(agent: dict) -> float:\r\n",
      "                \"\"\"Return the liquidity of an agent. How much stock can be bought.\"\"\"\r\n",
      "                return agent['wealth'] - agent['stock'] * self.price\r\n",
      "            def get_action_within_boundaries(agent, action_type, amount_wish):\r\n",
      "                \"\"\"Avoids selling short and having negative wealth.\"\"\"\r\n",
      "                return min(amount_wish, agent['stock']) \\\r\n",
      "                      if action_type == SELL \\\r\n",
      "                      else max(0,min(self.price * amount_wish, calculate_agent_cash(agent)))/self.price\r\n",
      "            def select_random_activated_strategy(agent, market_state):\r\n",
      "                def create_activated_strategy(market_state):\r\n",
      "                    indices = np.random.choice(range(len(self.signals)), replace=False, size=np.random.randint(low=1,high=len(self.signals)))\r\n",
      "                    condition = market_state[indices]\r\n",
      "                    return Strategy(indices, condition)\r\n",
      "\r\n",
      "                activated_strats = list(filter(\r\n",
      "                    lambda strat: strat.is_activated(market_state) and strat.strength > 0.,\r\n",
      "                    agent['strats']\r\n",
      "                ))\r\n",
      "                if len(activated_strats) == 0:\r\n",
      "#                   new_strat = create_activated_strategy(market_state)\r\n",
      "#                   mutate_strats = np.array((agent['strats']))[\r\n",
      "#                     np.argsort(np.abs(list(map(lambda a: a.strength,agent['strats']))))[:10]\r\n",
      "#                   ]\r\n",
      "#                   for strat in mutate_strats:\r\n",
      "#                       strat.mutate_existing(k=5)\r\n",
      "                    return None #new_strat\r\n",
      "                get_strat_strength = lambda s: s.strength\r\n",
      "                norm_const = np.sum(lmap(get_strat_strength, activated_strats))\r\n",
      "                activated_strat = np.random.choice(activated_strats, p = lmap(get_strat_strength, activated_strats)/norm_const)\r\n",
      "                return activated_strat\r\n",
      "            selected_strat = select_random_activated_strategy(agent, self.market_state)\r\n",
      "            if selected_strat == None:\r\n",
      "                return None\r\n",
      "            action_type = selected_strat.action\r\n",
      "            amount_wish = 2.\r\n",
      "            real_amount = get_action_within_boundaries(agent, action_type, amount_wish)\r\n",
      "            agent['action'] = {'type': action_type, 'amount': real_amount}\r\n",
      "        list(filter(lambda agent: agent != None, map(set_next_action, agents)))\r\n"
     ]
    }
   ],
   "source": [
    "class Market:\n",
    "    \"\"\"Handles all variables normally. Not having a class made \n",
    "    it a nightmare to keep global variables. Also this is a bad\n",
    "    class, because it handles both market logic and strat feedback.\n",
    "    \"\"\"\n",
    "    \n",
    "    def __init__(self,no_agents=150, mutate_prob=0.02):        \n",
    "        self.r = 0.02/252\n",
    "        self.dividend = 1./252.\n",
    "        self.price = 10.\n",
    "        self.c = 0.001\n",
    "        self.s_min,self.s_max=-1,1\n",
    "        self.eta = 0.001\n",
    "        self.t,self.x = ou_process(mu = self.dividend, dt=10**(-6),r=3)\n",
    "        self.dividend_with_timestamp = iter(zip(self.x,self.t))\n",
    "        self.signals = []\n",
    "        self.mutate_prob = mutate_prob\n",
    "\n",
    "        self.price_history = [self.price,self.price]\n",
    "        self.volume_history = [1,1]\n",
    "        self.dividend_history = [self.dividend,self.dividend]\n",
    "        self.action_history = []\n",
    "        self.market_state_history = []\n",
    "        self.ts_history = [] #tmp dealing with some bug\n",
    "        self.mutate_history = []\n",
    "\n",
    "        self.no_agents = no_agents\n",
    "        self.agents = [create_agent() for _ in range(self.no_agents)]\n",
    "        self.stock_total = self.no_agents*10.\n",
    "        self.market_state = []\n",
    "        self.B,self.O,self.V = 0.,0.,0.\n",
    "        \n",
    "        self.create_signals()\n",
    "        self.update_market_state()\n",
    "\n",
    "    def update_market_state(self):\n",
    "        self.market_state = np.array([signal_dict['signal']() for signal_dict in self.signals])\n",
    "        \n",
    "    def feedback_all(self):\n",
    "        for agent in self.agents:\n",
    "            for strat in agent['strats']:\n",
    "                self.feedback(strat)\n",
    "                \n",
    "    def clear(self, agent: dict, verbose: bool = False) -> dict:\n",
    "        \"\"\"Transacts each agent's action and sets new action to None\n",
    "\n",
    "        Order is important:\n",
    "            1) cash earns r\n",
    "            2) stock price change changes wealth\n",
    "            3) stock is bought/sold (liquidity changes inherently)\n",
    "\n",
    "        Aka Clearing House function\n",
    "        \"\"\"\n",
    "        def calculate_agent_cash(agent: dict) -> float:\n",
    "                \"\"\"Return the liquidity of an agent. How much stock can be bought.\"\"\"\n",
    "                return agent['wealth'] - agent['stock'] * self.price\n",
    "\n",
    "        agent['wealth'] += self.dividend * agent['stock']/self.stock_total\n",
    "\n",
    "        if agent.get('action') == None or self.B == 0 or self.O == 0:\n",
    "            return agent\n",
    "\n",
    "        stock_diff = (agent['action']['type']==BUY) * self.V/self.B * agent['action']['amount'] -\\\n",
    "            (agent['action']['type']==SELL) * self.V/self.O * agent['action']['amount']\n",
    "        agent['timestamp'] = self.ts\n",
    "        agent['wealth'] += calculate_agent_cash(agent) * self.r #cash earned risk free rate\n",
    "        agent['wealth'] += agent['stock'] * (self.price-self.price_history[-1]) # how much stock worth changed.\n",
    "        agent['stock'] += stock_diff #buy/sell happens at new price\n",
    "        if agent['stock'] < 0. or agent['wealth'] < 0.:\n",
    "            print(self.ts, agent['wealth'], agent['stock'])\n",
    "            assert False\n",
    "        if verbose:\n",
    "            print(\"Agent aquired dividend wealth: %s\" % (self.dividend * agent['stock']/self.stock_total))\n",
    "            print(\"Stock diff is %s\" % stock_diff)\n",
    "        agent.pop('action')\n",
    "        return agent\n",
    "    \n",
    "    def transact(self, agents: list, verbose: bool = False) -> list:\n",
    "        \"\"\"Clear all transactions.\n",
    "\n",
    "        Return: deepcopied agents with cleared transactions and removed action from dict\n",
    "\n",
    "        If there are more buy bids then fraction of all gets through.\n",
    "        This is the rationing scheme mentioned in the paper.\n",
    "\n",
    "        B - bid total\n",
    "        O - offer total\n",
    "        V - volume (minimum of O, B)\n",
    "        \"\"\"\n",
    "\n",
    "#         global price, stock_total, dividend, B, O, V, ts\n",
    "        self.dividend, self.ts = next(self.dividend_with_timestamp)\n",
    "        self.dividend = max(0,self.dividend)\n",
    "        self.ts_history.append((self.dividend, self.ts))\n",
    "        agents = list(map(copy, agents))\n",
    "\n",
    "        iter_t = lambda action_type: filter(lambda d: d.get('action', {}).get('type') == action_type, agents)\n",
    "        buyers = list(iter_t(1))\n",
    "        sellers = list(iter_t(-1))\n",
    "\n",
    "        self.B = np.sum(list(\n",
    "            map(lambda d: d['action']['amount'],\n",
    "            buyers)\n",
    "        ))\n",
    "        self.O = np.sum(list(\n",
    "            map(lambda d: d['action']['amount'],\n",
    "            sellers)\n",
    "        ))\n",
    "        self.V = min(self.B,self.O)\n",
    "        if (self.V > 0. and verbose):\n",
    "            print(\"transaction happened: B=%s,O=%s\"%(B,O))\n",
    "\n",
    "        #oldprice = self.price\n",
    "        #TODO: Is this where signals ought to be called?\n",
    "        self.price *= 1 + self.eta*(self.B-self.O)\n",
    "        self.price_history.append(self.price)\n",
    "        self.volume_history.append(self.V)\n",
    "        self.dividend_history.append(self.dividend)\n",
    "\n",
    "        #print('After transacting (B=%s ;O=%s), %.3f -> %.3f ' % (self.B,self.O,oldprice,self.price) )\n",
    "\n",
    "        return list(map(self.clear, agents))\n",
    "    \n",
    "    def feedback(self, strat):\n",
    "        if not strat.is_activated(self.market_state):\n",
    "            k = np.random.choice([0,1,2,3,4],p=[1-self.mutate_prob,self.mutate_prob/4,self.mutate_prob/4,self.mutate_prob/4,self.mutate_prob/4])\n",
    "            strat.mutate_existing(k=k)\n",
    "            if k > 0: self.mutate_history.append({'time':self.ts,'strat':strat.name,'agent':strat.agent})\n",
    "            #if k > 0: print(strat.name)\n",
    "        if strat.is_activated(self.market_state):\n",
    "            strat.strength = (1-self.c)*strat.strength + self.c*strat.action*(self.price_history[-1]-(1+self.r)*self.price_history[-2]+self.dividend_history[-1])\n",
    "            strat.strength = max(min(self.s_max, strat.strength),self.s_min)\n",
    "            if strat.strength < -0.3:\n",
    "                #print('inverted', strat.name)\n",
    "                strat.strength = 0.3\n",
    "                strat.action *= -1\n",
    "                \n",
    "                \n",
    "    def create_and_add_signal(self, description: str, formula) -> dict:\n",
    "            \"\"\"Add dict market signal object with description and signal\"\"\"\n",
    "            self.signals.append({'description': description, 'signal': formula})\n",
    "            \n",
    "    def fundamental_value(self):\n",
    "        \"\"\"p[t] == dividend/risk_free_rate\"\"\"\n",
    "        return self.dividend/(self.r)\n",
    "        \n",
    "    def create_signals(self):\n",
    "        \"\"\"Fundamental price signal\"\"\"\n",
    "        s = 'Price is over %s times fundamental value'\n",
    "        for ratio in np.round(np.linspace(0.25,4.25,8),1):\n",
    "            self.create_and_add_signal(\n",
    "                description = s % ratio,\n",
    "                formula = lambda ratio=ratio: self.price > ratio * self.fundamental_value()\n",
    "            )\n",
    "\n",
    "        \"\"\"Avg relative signal compared to last k days\"\"\"\n",
    "        s = 'Price is over %s times last %s timestep avg'\n",
    "        for k in np.linspace(1,17,5).astype(np.int64):\n",
    "            for ratio in np.round(np.linspace(0.5,1.5,5),1):\n",
    "                self.create_and_add_signal(\n",
    "                    description = s % (ratio, k),\n",
    "                    formula = lambda ratio=ratio,k=k: self.price > ratio * np.mean(self.price_history[-k:])\n",
    "                )\n",
    "\n",
    "        \"\"\"Std volatility signal\"\"\"\n",
    "        s = 'Stdev is more than %s over last %s timesteps'\n",
    "        for k in np.linspace(5,17,3).astype(np.int64):\n",
    "            for stdev_norm in np.round(np.linspace(0.001,100,2),1):\n",
    "                self.create_and_add_signal(\n",
    "                    description = s % (stdev_norm, k),\n",
    "                    formula = lambda stdev_norm=stdev_norm,k=k: stdev_norm < np.std(self.price_history[-k:])\n",
    "                )\n",
    "\n",
    "        \"\"\"Volume signal\"\"\"\n",
    "        s = 'Volume is more than %s over last %s timestep avg'\n",
    "        for k in np.linspace(1,5,4).astype(np.int64):\n",
    "            for vol_norm in np.round(np.linspace(0.01,5,5),1):\n",
    "                self.create_and_add_signal(\n",
    "                    description = s % (vol_norm, k),\n",
    "                    formula = lambda vol_norm=vol_norm,k=k: vol_norm < np.mean(self.volume_history[-k:])\n",
    "                )\n",
    "        \n",
    "    def simulate_k_steps(self, k: int = 1):\n",
    "        for i in range(k):\n",
    "            self.market_state_history.append(self.market_state)\n",
    "            self.agents = self.transact(self.agents)\n",
    "            self.update_market_state()\n",
    "            self.feedback_all()\n",
    "            self.set_next_actions(self.agents)\n",
    "            self.action_history.append(copy(self.agents))\n",
    "            if int(100*(i/k)) % 20 == 0 and k > 20 and i % 10 == 0:\n",
    "                print(\"%.2f percent done.\" % int(100*(i/k)) )  \n",
    "            \n",
    "    def set_next_actions(self, agents: list) -> None:\n",
    "        \"\"\"Set random actions within boundaries (no short selling, negative wealth)\"\"\"\n",
    "        def set_next_action(agent: dict) -> None:\n",
    "            def calculate_agent_cash(agent: dict) -> float:\n",
    "                \"\"\"Return the liquidity of an agent. How much stock can be bought.\"\"\"\n",
    "                return agent['wealth'] - agent['stock'] * self.price\n",
    "            def get_action_within_boundaries(agent, action_type, amount_wish):\n",
    "                \"\"\"Avoids selling short and having negative wealth.\"\"\"\n",
    "                return min(amount_wish, agent['stock']) \\\n",
    "                      if action_type == SELL \\\n",
    "                      else max(0,min(self.price * amount_wish, calculate_agent_cash(agent)))/self.price\n",
    "            def select_random_activated_strategy(agent, market_state):\n",
    "                def create_activated_strategy(market_state):\n",
    "                    indices = np.random.choice(range(len(self.signals)), replace=False, size=np.random.randint(low=1,high=len(self.signals)))\n",
    "                    condition = market_state[indices]\n",
    "                    return Strategy(indices, condition)\n",
    "\n",
    "                activated_strats = list(filter(\n",
    "                    lambda strat: strat.is_activated(market_state) and strat.strength > 0.,\n",
    "                    agent['strats']\n",
    "                ))\n",
    "                if len(activated_strats) == 0:\n",
    "#                   new_strat = create_activated_strategy(market_state)\n",
    "#                   mutate_strats = np.array((agent['strats']))[\n",
    "#                     np.argsort(np.abs(list(map(lambda a: a.strength,agent['strats']))))[:10]\n",
    "#                   ]\n",
    "#                   for strat in mutate_strats:\n",
    "#                       strat.mutate_existing(k=5)\n",
    "                    return None #new_strat\n",
    "                get_strat_strength = lambda s: s.strength\n",
    "                norm_const = np.sum(lmap(get_strat_strength, activated_strats))\n",
    "                activated_strat = np.random.choice(activated_strats, p = lmap(get_strat_strength, activated_strats)/norm_const)\n",
    "                return activated_strat\n",
    "            selected_strat = select_random_activated_strategy(agent, self.market_state)\n",
    "            if selected_strat == None:\n",
    "                return None\n",
    "            action_type = selected_strat.action\n",
    "            amount_wish = 2.\n",
    "            real_amount = get_action_within_boundaries(agent, action_type, amount_wish)\n",
    "            agent['action'] = {'type': action_type, 'amount': real_amount}\n",
    "        list(filter(lambda agent: agent != None, map(set_next_action, agents)))"
   ]
  },
  {
   "cell_type": "code",
   "execution_count": 3,
   "id": "f6013e8b",
   "metadata": {},
   "outputs": [],
   "source": [
    "import numpy as np\n",
    "import cupy as cp\n",
    "import time"
   ]
  },
  {
   "cell_type": "code",
   "execution_count": 12,
   "id": "411a31c9",
   "metadata": {},
   "outputs": [],
   "source": [
    "def test_function(arr):\n",
    "    arr_gpu = cp.array(arr)\n",
    "    arr_gpu += 1\n",
    "    out_host = cp.asnumpy(arr_gpu)\n",
    "\n",
    "    # this has no effect\n",
    "    del arr_gpu\n",
    "    cp._default_memory_pool.free_all_blocks()\n",
    "\n",
    "    return out_host"
   ]
  },
  {
   "cell_type": "code",
   "execution_count": 19,
   "id": "e93f9f7b",
   "metadata": {},
   "outputs": [],
   "source": [
    "del(x_gpu)\n",
    "cp._default_memory_pool.free_all_blocks()"
   ]
  },
  {
   "cell_type": "code",
   "execution_count": 18,
   "id": "6cb1ac26",
   "metadata": {},
   "outputs": [
    {
     "name": "stdout",
     "output_type": "stream",
     "text": [
      "3.6629629135131836\n",
      "0.3508777618408203\n"
     ]
    }
   ],
   "source": [
    "### Numpy and CPU\n",
    "s = time.time()\n",
    "x_cpu = np.ones((1000,1000,1000))\n",
    "e = time.time()\n",
    "print(e - s)### CuPy and GPU\n",
    "s = time.time()\n",
    "x_gpu = cp.ones((1000,1000,100))\n",
    "cp.cuda.Stream.null.synchronize()\n",
    "e = time.time()\n",
    "print(e - s)"
   ]
  },
  {
   "cell_type": "code",
   "execution_count": 5,
   "id": "d15b471f",
   "metadata": {},
   "outputs": [],
   "source": [
    "# fig = plt.figure()\n",
    "# plt.plot(m.price_history[:200])\n",
    "# fig.savefig('start_sell_higher_why_smooth.png', dpi=fig.dpi)"
   ]
  },
  {
   "cell_type": "code",
   "execution_count": 8,
   "id": "91d0b34c",
   "metadata": {},
   "outputs": [
    {
     "data": {
      "image/png": "[encoded data removed]",
      "text/plain": [
       "<Figure size 720x288 with 1 Axes>"
      ]
     },
     "metadata": {
      "needs_background": "dark"
     },
     "output_type": "display_data"
    }
   ],
   "source": [
    "df = pd.DataFrame(lmap(get_bought_sold_ts, m.action_history))\n",
    "\n",
    "df.columns = ['buy','sell','ts']\n",
    "\n",
    "plt.figure(figsize=(10,4))\n",
    "plt.title(\"Buy/sell\")\n",
    "plt.plot(df.buy,label='buy')\n",
    "plt.plot(df.sell,label='sell')\n",
    "plt.plot(np.sum(np.diff(m.market_state_history,axis=0),axis=1),label='market state diff')\n",
    "plt.legend(loc=\"upper right\");"
   ]
  },
  {
   "cell_type": "code",
   "execution_count": 19,
   "id": "23085190",
   "metadata": {},
   "outputs": [
    {
     "data": {
      "image/png": "[encoded data removed]",
      "text/plain": [
       "<Figure size 432x288 with 1 Axes>"
      ]
     },
     "metadata": {
      "needs_background": "dark"
     },
     "output_type": "display_data"
    }
   ],
   "source": [
    "plt.title(\"Scaled price change and vol\")\n",
    "plt.plot(df.ts,m.volume_history[2:],label='volume')\n",
    "plt.plot(df.ts,(m.price_history/(np.max(m.price_history)/np.max(m.volume_history)))[2:],label='(scaled) price')\n",
    "plt.legend(loc=\"upper right\");"
   ]
  },
  {
   "cell_type": "code",
   "execution_count": 16,
   "id": "2b9e783a",
   "metadata": {},
   "outputs": [
    {
     "data": {
      "image/png": "[encoded data removed]",
      "text/plain": [
       "<Figure size 720x360 with 1 Axes>"
      ]
     },
     "metadata": {
      "needs_background": "dark"
     },
     "output_type": "display_data"
    }
   ],
   "source": [
    "df = pd.DataFrame(lmap(get_bought_sold_ts, m.action_history))\n",
    "\n",
    "df.columns = ['buy','sell','ts']\n",
    "\n",
    "plt.figure(figsize=(10,5))\n",
    "plt.title(\"Action buy/sell\")\n",
    "plt.plot(df.buy,label='buy')\n",
    "plt.plot(df.sell,label='sell')\n",
    "plt.plot(np.sum(np.diff(m.market_state_history,axis=0),axis=1),label='market state diff')\n",
    "plt.legend(loc=\"upper right\");"
   ]
  },
  {
   "cell_type": "code",
   "execution_count": 37,
   "id": "a7a9f373",
   "metadata": {},
   "outputs": [
    {
     "data": {
      "text/plain": [
       "1500"
      ]
     },
     "execution_count": 37,
     "metadata": {},
     "output_type": "execute_result"
    }
   ],
   "source": [
    "len(buy)"
   ]
  },
  {
   "cell_type": "code",
   "execution_count": 38,
   "id": "00c05d73",
   "metadata": {},
   "outputs": [
    {
     "data": {
      "text/plain": [
       "1500"
      ]
     },
     "execution_count": 38,
     "metadata": {},
     "output_type": "execute_result"
    }
   ],
   "source": [
    "len(m.market_state_history)"
   ]
  },
  {
   "cell_type": "code",
   "execution_count": 42,
   "id": "505dcff4",
   "metadata": {},
   "outputs": [],
   "source": [
    "df2 = pd.DataFrame(m.mutate_history)"
   ]
  },
  {
   "cell_type": "code",
   "execution_count": 48,
   "id": "186c40df",
   "metadata": {},
   "outputs": [
    {
     "data": {
      "text/plain": [
       "0.00031700031700031695"
      ]
     },
     "execution_count": 48,
     "metadata": {},
     "output_type": "execute_result"
    }
   ],
   "source": [
    "lmap(lambda t: t[1], m.ts_history)[317]"
   ]
  },
  {
   "cell_type": "code",
   "execution_count": 55,
   "id": "44c26bc8",
   "metadata": {},
   "outputs": [
    {
     "data": {
      "text/plain": [
       "0.000294    213\n",
       "0.000382    211\n",
       "0.000036    208\n",
       "0.000062    207\n",
       "0.000364    206\n",
       "           ... \n",
       "0.001352    137\n",
       "0.000432    136\n",
       "0.000170    131\n",
       "0.000731    130\n",
       "0.001125    124\n",
       "Name: time, Length: 1500, dtype: int64"
      ]
     },
     "execution_count": 55,
     "metadata": {},
     "output_type": "execute_result"
    }
   ],
   "source": [
    "df2.time.value_counts()"
   ]
  },
  {
   "cell_type": "code",
   "execution_count": 54,
   "id": "bd8f2090",
   "metadata": {},
   "outputs": [
    {
     "data": {
      "text/html": [
       "<div>\n",
       "<style scoped>\n",
       "    .dataframe tbody tr th:only-of-type {\n",
       "        vertical-align: middle;\n",
       "    }\n",
       "\n",
       "    .dataframe tbody tr th {\n",
       "        vertical-align: top;\n",
       "    }\n",
       "\n",
       "    .dataframe thead th {\n",
       "        text-align: right;\n",
       "    }\n",
       "</style>\n",
       "<table border=\"1\" class=\"dataframe\">\n",
       "  <thead>\n",
       "    <tr style=\"text-align: right;\">\n",
       "      <th></th>\n",
       "      <th>time</th>\n",
       "      <th>strat</th>\n",
       "      <th>agent</th>\n",
       "    </tr>\n",
       "  </thead>\n",
       "  <tbody>\n",
       "    <tr>\n",
       "      <th>55041</th>\n",
       "      <td>0.000317</td>\n",
       "      <td>0d542e7d-0f86-4505-9335-685f5fc1e7b4</td>\n",
       "      <td>6a3649b0-984f-426f-9cab-37e886ca58f1</td>\n",
       "    </tr>\n",
       "    <tr>\n",
       "      <th>55042</th>\n",
       "      <td>0.000317</td>\n",
       "      <td>71c58760-d5a0-4503-8e24-58daa6cbcb1c</td>\n",
       "      <td>6e5e343e-e3bb-4fe3-9253-048386170e45</td>\n",
       "    </tr>\n",
       "    <tr>\n",
       "      <th>55043</th>\n",
       "      <td>0.000317</td>\n",
       "      <td>c69661c3-282b-4be7-8f31-9a1dab091842</td>\n",
       "      <td>7faec373-c404-427d-a4a2-3feea102b235</td>\n",
       "    </tr>\n",
       "    <tr>\n",
       "      <th>55044</th>\n",
       "      <td>0.000317</td>\n",
       "      <td>fbe14dba-e920-4046-a34d-18cb2e059326</td>\n",
       "      <td>7faec373-c404-427d-a4a2-3feea102b235</td>\n",
       "    </tr>\n",
       "    <tr>\n",
       "      <th>55045</th>\n",
       "      <td>0.000317</td>\n",
       "      <td>9b706e23-76ef-40a7-a6ff-6ce672194892</td>\n",
       "      <td>0004de78-a979-4f53-967e-5415ea1ebc77</td>\n",
       "    </tr>\n",
       "    <tr>\n",
       "      <th>...</th>\n",
       "      <td>...</td>\n",
       "      <td>...</td>\n",
       "      <td>...</td>\n",
       "    </tr>\n",
       "    <tr>\n",
       "      <th>55210</th>\n",
       "      <td>0.000317</td>\n",
       "      <td>a3a952ca-d53c-4de0-a840-130839de27f3</td>\n",
       "      <td>24693826-4dd0-494e-96d5-960088974769</td>\n",
       "    </tr>\n",
       "    <tr>\n",
       "      <th>55211</th>\n",
       "      <td>0.000317</td>\n",
       "      <td>a02f8d86-7984-4992-871f-4f122a8d8d89</td>\n",
       "      <td>cb8546ca-6975-4153-a523-694eeff0a441</td>\n",
       "    </tr>\n",
       "    <tr>\n",
       "      <th>55212</th>\n",
       "      <td>0.000317</td>\n",
       "      <td>f0bd542b-f042-4a42-bd4f-62931ebde8d3</td>\n",
       "      <td>72c57e71-e9ae-447c-9032-bbbe9d6c1472</td>\n",
       "    </tr>\n",
       "    <tr>\n",
       "      <th>55213</th>\n",
       "      <td>0.000317</td>\n",
       "      <td>1f15e6ea-4765-4afe-a02f-e0ca769307f5</td>\n",
       "      <td>c8733bb0-7b7f-42dd-9b29-5f80b0d458b6</td>\n",
       "    </tr>\n",
       "    <tr>\n",
       "      <th>55214</th>\n",
       "      <td>0.000317</td>\n",
       "      <td>1a8181b8-1e9d-450f-87f2-bb8c3ff73020</td>\n",
       "      <td>eb798e6b-fa40-4872-b23c-b486b928e5a6</td>\n",
       "    </tr>\n",
       "  </tbody>\n",
       "</table>\n",
       "<p>174 rows × 3 columns</p>\n",
       "</div>"
      ],
      "text/plain": [
       "           time                                 strat  \\\n",
       "55041  0.000317  0d542e7d-0f86-4505-9335-685f5fc1e7b4   \n",
       "55042  0.000317  71c58760-d5a0-4503-8e24-58daa6cbcb1c   \n",
       "55043  0.000317  c69661c3-282b-4be7-8f31-9a1dab091842   \n",
       "55044  0.000317  fbe14dba-e920-4046-a34d-18cb2e059326   \n",
       "55045  0.000317  9b706e23-76ef-40a7-a6ff-6ce672194892   \n",
       "...         ...                                   ...   \n",
       "55210  0.000317  a3a952ca-d53c-4de0-a840-130839de27f3   \n",
       "55211  0.000317  a02f8d86-7984-4992-871f-4f122a8d8d89   \n",
       "55212  0.000317  f0bd542b-f042-4a42-bd4f-62931ebde8d3   \n",
       "55213  0.000317  1f15e6ea-4765-4afe-a02f-e0ca769307f5   \n",
       "55214  0.000317  1a8181b8-1e9d-450f-87f2-bb8c3ff73020   \n",
       "\n",
       "                                      agent  \n",
       "55041  6a3649b0-984f-426f-9cab-37e886ca58f1  \n",
       "55042  6e5e343e-e3bb-4fe3-9253-048386170e45  \n",
       "55043  7faec373-c404-427d-a4a2-3feea102b235  \n",
       "55044  7faec373-c404-427d-a4a2-3feea102b235  \n",
       "55045  0004de78-a979-4f53-967e-5415ea1ebc77  \n",
       "...                                     ...  \n",
       "55210  24693826-4dd0-494e-96d5-960088974769  \n",
       "55211  cb8546ca-6975-4153-a523-694eeff0a441  \n",
       "55212  72c57e71-e9ae-447c-9032-bbbe9d6c1472  \n",
       "55213  c8733bb0-7b7f-42dd-9b29-5f80b0d458b6  \n",
       "55214  eb798e6b-fa40-4872-b23c-b486b928e5a6  \n",
       "\n",
       "[174 rows x 3 columns]"
      ]
     },
     "execution_count": 54,
     "metadata": {},
     "output_type": "execute_result"
    }
   ],
   "source": [
    "df2[df2.time == 0.00031700031700031695]"
   ]
  },
  {
   "cell_type": "code",
   "execution_count": 39,
   "id": "a47f27bc",
   "metadata": {},
   "outputs": [
    {
     "data": {
      "image/png": "[encoded data removed]",
      "text/plain": [
       "<Figure size 720x360 with 1 Axes>"
      ]
     },
     "metadata": {
      "needs_background": "dark"
     },
     "output_type": "display_data"
    }
   ],
   "source": [
    "# get_activated_no = lambda k, act: len(lfilter(\n",
    "#     lambda st: st.action == act and st.is_activated(m.market_state_history[k]), \n",
    "#     np.squeeze(np.reshape(lmap(lambda d: d['strats'], m.action_history[k]), (1,-1)))\n",
    "# ))\n",
    "\n",
    "# buysellstrats = np.transpose([(get_activated_no(k,1),get_activated_no(k,-1)) for k in range(len(m.action_history))])\n",
    "# buy = buysellstrats[0]\n",
    "# sell = buysellstrats[1]\n",
    "\n",
    "plt.figure(figsize=(10,5))\n",
    "plt.title(\"Strategy buy/sell\")\n",
    "a,b = 315,320\n",
    "plt.plot(buy[a:b], label = 'buy')\n",
    "plt.plot(sell[a:b], label = 'sell')\n",
    "plt.plot(np.sum(np.diff(m.market_state_history,axis=0),axis=1)[a:b],label='market state diff')\n",
    "plt.legend(loc=\"lower right\");"
   ]
  },
  {
   "cell_type": "markdown",
   "id": "5db1915a",
   "metadata": {},
   "source": [
    "### Let's try to duplicate market object up until this timestep:"
   ]
  },
  {
   "cell_type": "code",
   "execution_count": 70,
   "id": "0774e419",
   "metadata": {},
   "outputs": [],
   "source": [
    "import pickle"
   ]
  },
  {
   "cell_type": "code",
   "execution_count": null,
   "id": "28f1e770",
   "metadata": {},
   "outputs": [],
   "source": [
    "pi"
   ]
  },
  {
   "cell_type": "code",
   "execution_count": 61,
   "id": "5e5b5b0e",
   "metadata": {},
   "outputs": [],
   "source": [
    "m2 = Market()\n",
    "m2.agents = m.action_history[318]\n",
    "\n",
    "m2.action_history = m.action_history[:318]\n",
    "m2.price_history = m.price_history[:318]\n",
    "m2.volume_history = m.volume_history[:318]\n",
    "m2.dividend_history = m.dividend_history[:318]\n",
    "m2.market_state_history = m.market_state_history[:318]\n",
    "m2.ts_history = m.ts_history[:318]\n",
    "m2.mutate_history = m.mutate_history[:318]\n",
    "\n",
    "m2.market_state = m.market_state_history[318]\n",
    "\n",
    "iter_t = lambda action_type: filter(lambda d: d.get('action', {}).get('type') == action_type, m2.agents)\n",
    "buyers = list(iter_t(1))\n",
    "sellers = list(iter_t(-1))\n",
    "m2.B = np.sum(list(\n",
    "    map(lambda d: d['action']['amount'],\n",
    "    buyers)\n",
    "))\n",
    "m2.O = np.sum(list(\n",
    "    map(lambda d: d['action']['amount'],\n",
    "    sellers)\n",
    "))\n",
    "m2.V = min(m2.B,m2.O)"
   ]
  },
  {
   "cell_type": "code",
   "execution_count": 67,
   "id": "9fd18ee4",
   "metadata": {},
   "outputs": [
    {
     "name": "stdout",
     "output_type": "stream",
     "text": [
      "118 110\n",
      "118 110\n",
      "209 22\n"
     ]
    }
   ],
   "source": [
    "# test\n",
    "get_activated_no2 = lambda k, act: len(lfilter(\n",
    "    lambda st: st.action == act and st.is_activated(m2.market_state_history[k]), \n",
    "    np.squeeze(np.reshape(lmap(lambda d: d['strats'], m2.action_history[k]), (1,-1)))\n",
    "))\n",
    "\n",
    "print(get_activated_no2(317,1),get_activated_no2(317,-1))\n",
    "print(get_activated_no(317,1),get_activated_no(317,-1))\n",
    "print(get_activated_no(318,1),get_activated_no(318,-1))"
   ]
  },
  {
   "cell_type": "code",
   "execution_count": 68,
   "id": "f835104d",
   "metadata": {},
   "outputs": [],
   "source": [
    "m2.simulate_k_steps(1)"
   ]
  },
  {
   "cell_type": "code",
   "execution_count": 69,
   "id": "ead2a996",
   "metadata": {},
   "outputs": [
    {
     "name": "stdout",
     "output_type": "stream",
     "text": [
      "204 23\n"
     ]
    }
   ],
   "source": [
    "print(get_activated_no2(318,1),get_activated_no2(318,-1))"
   ]
  },
  {
   "cell_type": "markdown",
   "id": "96826869",
   "metadata": {},
   "source": [
    "### What kind of signals are changing in market state?"
   ]
  },
  {
   "cell_type": "code",
   "execution_count": 8,
   "id": "47e88ca1",
   "metadata": {},
   "outputs": [],
   "source": [
    "signal_diffs = np.array(m.market_state_history[1:])[\n",
    "    np.sum(np.diff(m.market_state_history,axis=0),axis=1)>0\n",
    "]"
   ]
  },
  {
   "cell_type": "code",
   "execution_count": 9,
   "id": "9eb7dee6",
   "metadata": {},
   "outputs": [
    {
     "data": {
      "text/plain": [
       "array([  0,   1,   2,   5,   9,  11,  13,  14,  15,  16,  17,  18,  20,\n",
       "        21,  23,  25,  27,  31,  36,  38,  41,  45,  49,  55,  56,  57,\n",
       "        59,  60,  69,  71,  72,  76,  79,  81,  83,  84,  87,  91,  92,\n",
       "        94,  98, 101, 102, 104, 105, 108, 109, 111, 112, 113, 115, 116,\n",
       "       118, 119, 120, 121, 122, 123, 125, 126, 128, 129, 131, 132, 134,\n",
       "       135, 136, 137, 139, 140, 141, 142, 143, 144, 145, 146, 148, 149,\n",
       "       150, 151, 152, 153, 154, 155, 156, 157, 158, 160, 161, 162, 163,\n",
       "       164, 165, 166, 167, 169, 170, 171, 172, 174, 176, 177, 183, 184,\n",
       "       187, 189, 192, 195, 200, 203, 207, 218, 225, 228, 229, 236, 239,\n",
       "       250, 252, 266, 270, 271, 274, 275, 278, 298, 301, 319, 320, 323,\n",
       "       324, 327, 330, 335, 336, 337, 339, 340, 341, 342, 343, 355, 356,\n",
       "       358, 359, 363, 364, 366, 367, 368, 369, 376, 381, 382, 385, 392,\n",
       "       393, 396, 416, 417, 438, 439, 441, 442, 475, 477, 481, 482, 484,\n",
       "       490, 493, 496, 497, 499, 501, 504, 505, 512, 520, 536, 544, 570,\n",
       "       571, 572, 573, 581, 583, 588, 589, 593, 604, 606, 608, 610, 612,\n",
       "       613, 615, 620, 621, 656, 672, 673, 674, 676, 678, 679, 680, 681,\n",
       "       682, 684, 685, 686, 687, 688, 689, 692, 693, 696, 697, 698, 699,\n",
       "       701, 707, 716, 726, 727, 732, 742, 748, 749, 752, 753, 754, 759,\n",
       "       767, 770, 772, 773, 774, 775, 776, 777, 778, 779, 781, 782, 787,\n",
       "       788, 789, 794, 796, 797, 798])"
      ]
     },
     "execution_count": 9,
     "metadata": {},
     "output_type": "execute_result"
    }
   ],
   "source": [
    "np.squeeze(np.argwhere(np.sum(np.diff(m.market_state_history,axis=0),axis=1)>0))"
   ]
  },
  {
   "cell_type": "code",
   "execution_count": 44,
   "id": "64e48cd5",
   "metadata": {},
   "outputs": [
    {
     "data": {
      "text/plain": [
       "[0.0,\n",
       " 0.00010400010400010399,\n",
       " 0.00010400010400010399,\n",
       " 0.00010600010600010599,\n",
       " 0.00010600010600010599]"
      ]
     },
     "execution_count": 44,
     "metadata": {},
     "output_type": "execute_result"
    }
   ],
   "source": [
    "#First 5\n",
    "list(\n",
    "    df.ts[np.squeeze(np.argwhere(np.sum(np.diff(m.market_state_history,axis=0),axis=1)>0))]\n",
    ")[:5]"
   ]
  },
  {
   "cell_type": "code",
   "execution_count": 45,
   "id": "b4284ab2",
   "metadata": {
    "scrolled": true
   },
   "outputs": [
    {
     "data": {
      "text/plain": [
       "Price is over 1.2 times last 9 timestep avg         1\n",
       "Price is over 1.1 times last 13 timestep avg        1\n",
       "Price is over 0.8 times last 13 timestep avg        1\n",
       "Price is over 1.4 times last 9 timestep avg         1\n",
       "Volume is more than 5.0 over last 3 timestep avg    1\n",
       "Volume is more than 0.0 over last 2 timestep avg    1\n",
       "Price is over 1.4 times fundamental value           1\n",
       "Price is over 1.0 times last 13 timestep avg        1\n",
       "Price is over 0.7 times last 1 timestep avg         1\n",
       "Volume is more than 1.3 over last 1 timestep avg    1\n",
       "dtype: int64"
      ]
     },
     "execution_count": 45,
     "metadata": {},
     "output_type": "execute_result"
    }
   ],
   "source": [
    "pd.Series(lmap(lambda d: d['description'], np.array(m.signals))).value_counts()[:10]"
   ]
  },
  {
   "cell_type": "code",
   "execution_count": 80,
   "id": "9ffcb058",
   "metadata": {},
   "outputs": [
    {
     "data": {
      "text/plain": [
       "['Price is over 0.2 times fundamental value',\n",
       " 'Price is over 0.8 times fundamental value',\n",
       " 'Price is over 1.4 times fundamental value',\n",
       " 'Price is over 2.0 times fundamental value',\n",
       " 'Price is over 2.5 times fundamental value',\n",
       " 'Price is over 3.1 times fundamental value',\n",
       " 'Price is over 3.7 times fundamental value',\n",
       " 'Price is over 4.2 times fundamental value']"
      ]
     },
     "execution_count": 80,
     "metadata": {},
     "output_type": "execute_result"
    }
   ],
   "source": [
    "lmap(lambda d: d['description'], np.array(m.signals)[signal_diffs[1]])"
   ]
  },
  {
   "cell_type": "code",
   "execution_count": 13,
   "id": "80c2a063",
   "metadata": {},
   "outputs": [
    {
     "name": "stdout",
     "output_type": "stream",
     "text": [
      "1 0.0\n",
      "1 1.3\n",
      "1 2.5\n",
      "1 3.8\n",
      "1 5.0\n",
      "2 0.0\n",
      "2 1.3\n",
      "2 2.5\n",
      "2 3.8\n",
      "2 5.0\n",
      "3 0.0\n",
      "3 1.3\n",
      "3 2.5\n",
      "3 3.8\n",
      "3 5.0\n",
      "5 0.0\n",
      "5 1.3\n",
      "5 2.5\n",
      "5 3.8\n",
      "5 5.0\n"
     ]
    }
   ],
   "source": [
    "for k in np.linspace(1,5,4).astype(np.int64):\n",
    "    for vol_norm in np.round(np.linspace(0.01,5,5),1):\n",
    "        print(k, vol_norm)"
   ]
  },
  {
   "cell_type": "markdown",
   "id": "a4d7dd62",
   "metadata": {},
   "source": [
    "## Visualisation tools\n",
    "\n",
    "How to investigate:\n",
    "\n",
    "- single timestamp\n",
    "    - how many buyers / sellers\n",
    "    - how many active strategies\n",
    "    - how difficult strategies\n",
    "- single agent\n",
    "    - how many active strategies\n",
    "    - profit\n",
    "- single strategy\n",
    "    - strength\n",
    "    - potential profit (if always chosen) ~ already directly correlated to strength?\n",
    "    \n",
    "### TODO:\n",
    "\n",
    "If multiple strats active, don't have stocks/liquidity -> only buy/"
   ]
  },
  {
   "cell_type": "code",
   "execution_count": 8,
   "id": "bf8c23bc",
   "metadata": {},
   "outputs": [
    {
     "data": {
      "text/plain": [
       "0.05"
      ]
     },
     "execution_count": 8,
     "metadata": {},
     "output_type": "execute_result"
    }
   ],
   "source": [
    "lmap(get_strat_strength, get_strats(m.action_history[0]))[301]"
   ]
  },
  {
   "cell_type": "code",
   "execution_count": 10,
   "id": "966a0944",
   "metadata": {},
   "outputs": [
    {
     "data": {
      "text/plain": [
       "dict_keys(['name', 'strats', 'wealth', 'stock', 'timestamp', 'action'])    46\n",
       "dict_keys(['name', 'strats', 'wealth', 'stock', 'timestamp'])               4\n",
       "dtype: int64"
      ]
     },
     "execution_count": 10,
     "metadata": {},
     "output_type": "execute_result"
    }
   ],
   "source": [
    "pd.Series(list(map(lambda d: str(d.keys()), m.action_history[-1]))).value_counts()"
   ]
  },
  {
   "cell_type": "code",
   "execution_count": 11,
   "id": "816a2009",
   "metadata": {},
   "outputs": [],
   "source": [
    "bs = get_strats(m.agents)[1489]"
   ]
  },
  {
   "cell_type": "code",
   "execution_count": null,
   "id": "dcdfb81d",
   "metadata": {},
   "outputs": [],
   "source": []
  },
  {
   "cell_type": "code",
   "execution_count": 78,
   "id": "895b59ac",
   "metadata": {},
   "outputs": [],
   "source": [
    "v = lmap(lambda s: np.sum(lmap(s.is_activated, m.market_state_history)), get_strats(m.agents))"
   ]
  },
  {
   "cell_type": "code",
   "execution_count": 80,
   "id": "69eaf37c",
   "metadata": {},
   "outputs": [
    {
     "data": {
      "text/plain": [
       "0       2305\n",
       "1210     195\n",
       "dtype: int64"
      ]
     },
     "execution_count": 80,
     "metadata": {},
     "output_type": "execute_result"
    }
   ],
   "source": [
    "pd.Series(v).value_counts() # absolutely no changes to strats"
   ]
  },
  {
   "cell_type": "code",
   "execution_count": 63,
   "id": "08ea22bd",
   "metadata": {},
   "outputs": [
    {
     "data": {
      "text/plain": [
       "array([2430, 2188,  779, ...,  301,   38, 1844])"
      ]
     },
     "execution_count": 63,
     "metadata": {},
     "output_type": "execute_result"
    }
   ],
   "source": [
    "np.argsort(lmap(get_strat_strength, get_strats(m.agents)))"
   ]
  },
  {
   "cell_type": "code",
   "execution_count": 154,
   "id": "f3553384",
   "metadata": {},
   "outputs": [
    {
     "data": {
      "text/html": [
       "<div>\n",
       "<style scoped>\n",
       "    .dataframe tbody tr th:only-of-type {\n",
       "        vertical-align: middle;\n",
       "    }\n",
       "\n",
       "    .dataframe tbody tr th {\n",
       "        vertical-align: top;\n",
       "    }\n",
       "\n",
       "    .dataframe thead th {\n",
       "        text-align: right;\n",
       "    }\n",
       "</style>\n",
       "<table border=\"1\" class=\"dataframe\">\n",
       "  <thead>\n",
       "    <tr style=\"text-align: right;\">\n",
       "      <th></th>\n",
       "      <th>name</th>\n",
       "      <th>strats</th>\n",
       "      <th>wealth</th>\n",
       "      <th>stock</th>\n",
       "      <th>timestamp</th>\n",
       "      <th>action</th>\n",
       "    </tr>\n",
       "  </thead>\n",
       "  <tbody>\n",
       "    <tr>\n",
       "      <th>0</th>\n",
       "      <td>1701ef8f-9e27-4a59-a6ea-c2ecb85ebcd7</td>\n",
       "      <td>[---\\nMarket indicators: [ 1  5  8 13 15 22 26...</td>\n",
       "      <td>10026.645538</td>\n",
       "      <td>30.158938</td>\n",
       "      <td>0.000031</td>\n",
       "      <td>{'type': 1, 'amount': 0.998888180741205}</td>\n",
       "    </tr>\n",
       "    <tr>\n",
       "      <th>1</th>\n",
       "      <td>55258d0d-b9d0-43b1-b300-2d23d1a70b52</td>\n",
       "      <td>[---\\nMarket indicators: [ 1  2  5  7  9 11 15...</td>\n",
       "      <td>10026.645538</td>\n",
       "      <td>30.158938</td>\n",
       "      <td>0.000031</td>\n",
       "      <td>{'type': 1, 'amount': 0.998888180741205}</td>\n",
       "    </tr>\n",
       "    <tr>\n",
       "      <th>2</th>\n",
       "      <td>ab1f1586-c486-4307-be5a-701404f7d3c6</td>\n",
       "      <td>[---\\nMarket indicators: [13 16 18 21 23 28 34...</td>\n",
       "      <td>10025.856885</td>\n",
       "      <td>3.004313</td>\n",
       "      <td>0.000031</td>\n",
       "      <td>{'type': 1, 'amount': 0.998888180741205}</td>\n",
       "    </tr>\n",
       "    <tr>\n",
       "      <th>3</th>\n",
       "      <td>e0a0743a-0ac1-415e-9d75-931009093eb9</td>\n",
       "      <td>[---\\nMarket indicators: [ 2  3  5  6  9 11 12...</td>\n",
       "      <td>10026.645538</td>\n",
       "      <td>30.158938</td>\n",
       "      <td>0.000031</td>\n",
       "      <td>{'type': 1, 'amount': 0.998888180741205}</td>\n",
       "    </tr>\n",
       "    <tr>\n",
       "      <th>4</th>\n",
       "      <td>d1eb06bf-9ccf-44ef-b77f-290ba3fb4311</td>\n",
       "      <td>[---\\nMarket indicators: [ 0  2  3  6  8 11 15...</td>\n",
       "      <td>10019.118996</td>\n",
       "      <td>19.372393</td>\n",
       "      <td>0.000031</td>\n",
       "      <td>{'type': 1, 'amount': 0.998888180741205}</td>\n",
       "    </tr>\n",
       "    <tr>\n",
       "      <th>5</th>\n",
       "      <td>b0d10741-2ba5-47ee-9aaf-c69601d7bcfc</td>\n",
       "      <td>[---\\nMarket indicators: [ 0  2  4  5  6  7  8...</td>\n",
       "      <td>10025.790867</td>\n",
       "      <td>2.323497</td>\n",
       "      <td>0.000031</td>\n",
       "      <td>{'type': 1, 'amount': 0.998888180741205}</td>\n",
       "    </tr>\n",
       "    <tr>\n",
       "      <th>6</th>\n",
       "      <td>7cef3ee7-e82c-4261-b71d-552f4222473e</td>\n",
       "      <td>[---\\nMarket indicators: [ 1  2  3  4  7 12 16...</td>\n",
       "      <td>10025.749417</td>\n",
       "      <td>1.205231</td>\n",
       "      <td>0.000031</td>\n",
       "      <td>{'type': -1, 'amount': 1}</td>\n",
       "    </tr>\n",
       "    <tr>\n",
       "      <th>7</th>\n",
       "      <td>d34c6b7c-5644-4ab3-9982-c2315cddc601</td>\n",
       "      <td>[---\\nMarket indicators: [ 3  4  6  7  8  9 10...</td>\n",
       "      <td>10026.561142</td>\n",
       "      <td>28.373224</td>\n",
       "      <td>0.000031</td>\n",
       "      <td>{'type': 1, 'amount': 0.998888180741205}</td>\n",
       "    </tr>\n",
       "    <tr>\n",
       "      <th>8</th>\n",
       "      <td>00e004a9-e408-4b6b-a526-4153b878dc49</td>\n",
       "      <td>[---\\nMarket indicators: [ 0  1  2  3  4  5  6...</td>\n",
       "      <td>10026.645538</td>\n",
       "      <td>30.158938</td>\n",
       "      <td>0.000031</td>\n",
       "      <td>{'type': 1, 'amount': 0.998888180741205}</td>\n",
       "    </tr>\n",
       "    <tr>\n",
       "      <th>9</th>\n",
       "      <td>77ac5e09-342d-4893-91a6-dccde0afb11c</td>\n",
       "      <td>[---\\nMarket indicators: [ 4 11 18 20 55 63 82...</td>\n",
       "      <td>10026.645538</td>\n",
       "      <td>30.158938</td>\n",
       "      <td>0.000031</td>\n",
       "      <td>{'type': 1, 'amount': 0.998888180741205}</td>\n",
       "    </tr>\n",
       "    <tr>\n",
       "      <th>10</th>\n",
       "      <td>507463d7-6374-48c0-8cf1-4ebe2adab40a</td>\n",
       "      <td>[---\\nMarket indicators: [10 21 33 35 39 51],\\...</td>\n",
       "      <td>10026.561142</td>\n",
       "      <td>28.373224</td>\n",
       "      <td>0.000031</td>\n",
       "      <td>{'type': 1, 'amount': 0.998888180741205}</td>\n",
       "    </tr>\n",
       "    <tr>\n",
       "      <th>11</th>\n",
       "      <td>f2f1b4bb-e274-4d95-91fc-4643638230f9</td>\n",
       "      <td>[---\\nMarket indicators: [ 0  1  2  3  4  6  8...</td>\n",
       "      <td>10026.297004</td>\n",
       "      <td>13.902154</td>\n",
       "      <td>0.000031</td>\n",
       "      <td>{'type': 1, 'amount': 0.998888180741205}</td>\n",
       "    </tr>\n",
       "    <tr>\n",
       "      <th>12</th>\n",
       "      <td>d187a9d0-ea05-4d27-898b-3bca68453424</td>\n",
       "      <td>[---\\nMarket indicators: [36 84],\\nCondition: ...</td>\n",
       "      <td>10025.623981</td>\n",
       "      <td>0.266667</td>\n",
       "      <td>0.000031</td>\n",
       "      <td>{'type': 1, 'amount': 0.998888180741205}</td>\n",
       "    </tr>\n",
       "    <tr>\n",
       "      <th>13</th>\n",
       "      <td>b9f9f29c-f532-4471-93ad-48cbcddb7506</td>\n",
       "      <td>[---\\nMarket indicators: [ 8 15 17 18 20 21 23...</td>\n",
       "      <td>10026.561142</td>\n",
       "      <td>28.373224</td>\n",
       "      <td>0.000031</td>\n",
       "      <td>{'type': 1, 'amount': 0.998888180741205}</td>\n",
       "    </tr>\n",
       "    <tr>\n",
       "      <th>14</th>\n",
       "      <td>0b684ef2-e169-4966-8207-edabd9da5e97</td>\n",
       "      <td>[---\\nMarket indicators: [ 3  5  6 11 12 15 17...</td>\n",
       "      <td>10003.863316</td>\n",
       "      <td>11.670330</td>\n",
       "      <td>0.000031</td>\n",
       "      <td>{'type': 1, 'amount': 0.998888180741205}</td>\n",
       "    </tr>\n",
       "    <tr>\n",
       "      <th>15</th>\n",
       "      <td>5d9143a9-167c-4926-8e84-c0f0d992ecdb</td>\n",
       "      <td>[---\\nMarket indicators: [ 0  1  2  3  5  8  9...</td>\n",
       "      <td>10004.550283</td>\n",
       "      <td>10.184615</td>\n",
       "      <td>0.000031</td>\n",
       "      <td>{'type': 1, 'amount': 0.998888180741205}</td>\n",
       "    </tr>\n",
       "    <tr>\n",
       "      <th>16</th>\n",
       "      <td>c393e1c5-64cb-4fd3-95ed-314df1ccba5b</td>\n",
       "      <td>[---\\nMarket indicators: [ 1  2  3  4  8  9 10...</td>\n",
       "      <td>10026.468583</td>\n",
       "      <td>21.673307</td>\n",
       "      <td>0.000031</td>\n",
       "      <td>{'type': -1, 'amount': 1}</td>\n",
       "    </tr>\n",
       "    <tr>\n",
       "      <th>17</th>\n",
       "      <td>3f31aeb5-f219-4a25-8e12-349673e27a0c</td>\n",
       "      <td>[---\\nMarket indicators: [ 0  2  4  5  6  7  8...</td>\n",
       "      <td>10026.284662</td>\n",
       "      <td>19.038481</td>\n",
       "      <td>0.000031</td>\n",
       "      <td>{'type': 1, 'amount': 0.998888180741205}</td>\n",
       "    </tr>\n",
       "    <tr>\n",
       "      <th>18</th>\n",
       "      <td>09c15517-a557-4e23-a3ee-ad0109a0a45b</td>\n",
       "      <td>[---\\nMarket indicators: [ 1  4  7  9 12 16 17...</td>\n",
       "      <td>10026.561142</td>\n",
       "      <td>28.373224</td>\n",
       "      <td>0.000031</td>\n",
       "      <td>{'type': 1, 'amount': 0.998888180741205}</td>\n",
       "    </tr>\n",
       "  </tbody>\n",
       "</table>\n",
       "</div>"
      ],
      "text/plain": [
       "                                    name  \\\n",
       "0   1701ef8f-9e27-4a59-a6ea-c2ecb85ebcd7   \n",
       "1   55258d0d-b9d0-43b1-b300-2d23d1a70b52   \n",
       "2   ab1f1586-c486-4307-be5a-701404f7d3c6   \n",
       "3   e0a0743a-0ac1-415e-9d75-931009093eb9   \n",
       "4   d1eb06bf-9ccf-44ef-b77f-290ba3fb4311   \n",
       "5   b0d10741-2ba5-47ee-9aaf-c69601d7bcfc   \n",
       "6   7cef3ee7-e82c-4261-b71d-552f4222473e   \n",
       "7   d34c6b7c-5644-4ab3-9982-c2315cddc601   \n",
       "8   00e004a9-e408-4b6b-a526-4153b878dc49   \n",
       "9   77ac5e09-342d-4893-91a6-dccde0afb11c   \n",
       "10  507463d7-6374-48c0-8cf1-4ebe2adab40a   \n",
       "11  f2f1b4bb-e274-4d95-91fc-4643638230f9   \n",
       "12  d187a9d0-ea05-4d27-898b-3bca68453424   \n",
       "13  b9f9f29c-f532-4471-93ad-48cbcddb7506   \n",
       "14  0b684ef2-e169-4966-8207-edabd9da5e97   \n",
       "15  5d9143a9-167c-4926-8e84-c0f0d992ecdb   \n",
       "16  c393e1c5-64cb-4fd3-95ed-314df1ccba5b   \n",
       "17  3f31aeb5-f219-4a25-8e12-349673e27a0c   \n",
       "18  09c15517-a557-4e23-a3ee-ad0109a0a45b   \n",
       "\n",
       "                                               strats        wealth  \\\n",
       "0   [---\\nMarket indicators: [ 1  5  8 13 15 22 26...  10026.645538   \n",
       "1   [---\\nMarket indicators: [ 1  2  5  7  9 11 15...  10026.645538   \n",
       "2   [---\\nMarket indicators: [13 16 18 21 23 28 34...  10025.856885   \n",
       "3   [---\\nMarket indicators: [ 2  3  5  6  9 11 12...  10026.645538   \n",
       "4   [---\\nMarket indicators: [ 0  2  3  6  8 11 15...  10019.118996   \n",
       "5   [---\\nMarket indicators: [ 0  2  4  5  6  7  8...  10025.790867   \n",
       "6   [---\\nMarket indicators: [ 1  2  3  4  7 12 16...  10025.749417   \n",
       "7   [---\\nMarket indicators: [ 3  4  6  7  8  9 10...  10026.561142   \n",
       "8   [---\\nMarket indicators: [ 0  1  2  3  4  5  6...  10026.645538   \n",
       "9   [---\\nMarket indicators: [ 4 11 18 20 55 63 82...  10026.645538   \n",
       "10  [---\\nMarket indicators: [10 21 33 35 39 51],\\...  10026.561142   \n",
       "11  [---\\nMarket indicators: [ 0  1  2  3  4  6  8...  10026.297004   \n",
       "12  [---\\nMarket indicators: [36 84],\\nCondition: ...  10025.623981   \n",
       "13  [---\\nMarket indicators: [ 8 15 17 18 20 21 23...  10026.561142   \n",
       "14  [---\\nMarket indicators: [ 3  5  6 11 12 15 17...  10003.863316   \n",
       "15  [---\\nMarket indicators: [ 0  1  2  3  5  8  9...  10004.550283   \n",
       "16  [---\\nMarket indicators: [ 1  2  3  4  8  9 10...  10026.468583   \n",
       "17  [---\\nMarket indicators: [ 0  2  4  5  6  7  8...  10026.284662   \n",
       "18  [---\\nMarket indicators: [ 1  4  7  9 12 16 17...  10026.561142   \n",
       "\n",
       "        stock  timestamp                                    action  \n",
       "0   30.158938   0.000031  {'type': 1, 'amount': 0.998888180741205}  \n",
       "1   30.158938   0.000031  {'type': 1, 'amount': 0.998888180741205}  \n",
       "2    3.004313   0.000031  {'type': 1, 'amount': 0.998888180741205}  \n",
       "3   30.158938   0.000031  {'type': 1, 'amount': 0.998888180741205}  \n",
       "4   19.372393   0.000031  {'type': 1, 'amount': 0.998888180741205}  \n",
       "5    2.323497   0.000031  {'type': 1, 'amount': 0.998888180741205}  \n",
       "6    1.205231   0.000031                 {'type': -1, 'amount': 1}  \n",
       "7   28.373224   0.000031  {'type': 1, 'amount': 0.998888180741205}  \n",
       "8   30.158938   0.000031  {'type': 1, 'amount': 0.998888180741205}  \n",
       "9   30.158938   0.000031  {'type': 1, 'amount': 0.998888180741205}  \n",
       "10  28.373224   0.000031  {'type': 1, 'amount': 0.998888180741205}  \n",
       "11  13.902154   0.000031  {'type': 1, 'amount': 0.998888180741205}  \n",
       "12   0.266667   0.000031  {'type': 1, 'amount': 0.998888180741205}  \n",
       "13  28.373224   0.000031  {'type': 1, 'amount': 0.998888180741205}  \n",
       "14  11.670330   0.000031  {'type': 1, 'amount': 0.998888180741205}  \n",
       "15  10.184615   0.000031  {'type': 1, 'amount': 0.998888180741205}  \n",
       "16  21.673307   0.000031                 {'type': -1, 'amount': 1}  \n",
       "17  19.038481   0.000031  {'type': 1, 'amount': 0.998888180741205}  \n",
       "18  28.373224   0.000031  {'type': 1, 'amount': 0.998888180741205}  "
      ]
     },
     "execution_count": 154,
     "metadata": {},
     "output_type": "execute_result"
    }
   ],
   "source": [
    "pd.DataFrame(lfilter(lambda d: d.get('action') != None and d.get('action').get('amount') != 0.,m.action_history[-1]))"
   ]
  },
  {
   "cell_type": "code",
   "execution_count": null,
   "id": "5858e47c",
   "metadata": {},
   "outputs": [],
   "source": [
    "allstrats = np.reshape(np.c_[lmap(lambda a: a['strats'], fa)], 4000)"
   ]
  },
  {
   "cell_type": "code",
   "execution_count": null,
   "id": "1d863d03",
   "metadata": {},
   "outputs": [],
   "source": [
    "lfilter(lambda s: s.strength>0.8 and s.is_activated(market_state), allstrats)"
   ]
  },
  {
   "cell_type": "code",
   "execution_count": 77,
   "id": "9548730e",
   "metadata": {},
   "outputs": [
    {
     "data": {
      "text/plain": [
       "[<matplotlib.lines.Line2D at 0x7f71435713c8>]"
      ]
     },
     "execution_count": 77,
     "metadata": {},
     "output_type": "execute_result"
    },
    {
     "data": {
      "image/png": "[encoded data removed]",
      "text/plain": [
       "<Figure size 432x288 with 1 Axes>"
      ]
     },
     "metadata": {},
     "output_type": "display_data"
    }
   ],
   "source": [
    "# plt.plot(m.price_history, label='Price')\n",
    "# plt.plot(np.array(m.volume_history)*2, label='Volume')\n",
    "plt.plot(np.array(m.dividend_history)*20, label='Dividend')"
   ]
  },
  {
   "cell_type": "code",
   "execution_count": null,
   "id": "e0167ddb",
   "metadata": {},
   "outputs": [],
   "source": []
  }
 ],
 "metadata": {
  "kernelspec": {
   "display_name": "Python 3",
   "language": "python",
   "name": "python3"
  },
  "language_info": {
   "codemirror_mode": {
    "name": "ipython",
    "version": 3
   },
   "file_extension": ".py",
   "mimetype": "text/x-python",
   "name": "python",
   "nbconvert_exporter": "python",
   "pygments_lexer": "ipython3",
   "version": "3.9.5"
  }
 },
 "nbformat": 4,
 "nbformat_minor": 5
}
